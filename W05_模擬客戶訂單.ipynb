{
 "cells": [
  {
   "cell_type": "code",
   "execution_count": 4,
   "id": "f2873413",
   "metadata": {},
   "outputs": [],
   "source": [
    "import pandas\n",
    "import numpy\n",
    "import datetime\n",
    "from faker import Faker"
   ]
  },
  {
   "cell_type": "code",
   "execution_count": 6,
   "id": "73695ecc",
   "metadata": {},
   "outputs": [],
   "source": [
    "class Orders:\n",
    "    def __init__(self):\n",
    "        data_path = 'C:\\\\Users\\\\user\\\\anaconda3\\\\Projects\\\\BizCases\\\\data'\n",
    "        vendor_item_file = '%s/產品-供應商彙整.csv' % data_path\n",
    "        self.vendor_item = pandas.read_csv(vendor_item_file, header=0)\n",
    "        self.fake = Faker()\n",
    "    def generate(self, start_date, num_of_orders=100):\n",
    "        idx = []\n",
    "        \n",
    "        orders = dict(\n",
    "            order_date=[], order_customer=[],\n",
    "            item_category=[], item_vendor=[], order_item=[], \n",
    "            order_price=[], order_qty=[],\n",
    "            delivery_date=[], delivery_address=[]\n",
    "        )\n",
    "        \n",
    "        i = 0\n",
    "        while i < num_of_orders:\n",
    "            order_item = self.vendor_item['product_id'].sample(n=1).values[0]\n",
    "            \n",
    "            if order_item != order_item:\n",
    "                continue\n",
    "                \n",
    "            item_vendor_info = self.vendor_item[self.vendor_item['product_id']==order_item]\n",
    "            item_vendor = item_vendor_info['supplier_id'].values[0]\n",
    "            item_category = item_vendor_info['category_title'].values[0]\n",
    "            item_price = item_vendor_info['unit_price'].values[0]\n",
    "            \n",
    "            idx.append('PO-%04d' % i)\n",
    "            order_date = self.fake.date_between(start_date=start_date, end_date='+60d')\n",
    "            \n",
    "            orders['order_date'].append(order_date)\n",
    "            orders['order_customer'].append(self.fake.name())\n",
    "            orders['item_category'].append(item_category)\n",
    "            orders['item_vendor'].append(item_vendor)\n",
    "            orders['order_item'].append(order_item)\n",
    "            orders['order_price'].append(item_price * 1.05)\n",
    "            orders['order_qty'].append(numpy.random.randint(1000, 3000))\n",
    "            orders['delivery_date'].append(self.fake.date_between(start_date=order_date, end_date='+90d'))\n",
    "            orders['delivery_address'].append(self.fake.address())\n",
    "            \n",
    "            i += 1\n",
    "                      \n",
    "        return pandas.DataFrame(\n",
    "            data=orders, index=idx\n",
    "        )"
   ]
  },
  {
   "cell_type": "code",
   "execution_count": 7,
   "id": "5004f21b",
   "metadata": {},
   "outputs": [],
   "source": [
    "worker = Orders()\n",
    "start_date = datetime.date(year=2021, month=4, day=1)\n",
    "order_list = worker.generate(start_date, 2000)\n",
    "\n",
    "order_list.to_csv('C:\\\\Users\\\\user\\\\anaconda3\\\\Projects\\\\BizCases\\\\data/模擬訂單.csv', index_label='order_id', index=True)"
   ]
  },
  {
   "cell_type": "code",
   "execution_count": null,
   "id": "6ba01604",
   "metadata": {},
   "outputs": [],
   "source": []
  }
 ],
 "metadata": {
  "kernelspec": {
   "display_name": "Python 3 (ipykernel)",
   "language": "python",
   "name": "python3"
  },
  "language_info": {
   "codemirror_mode": {
    "name": "ipython",
    "version": 3
   },
   "file_extension": ".py",
   "mimetype": "text/x-python",
   "name": "python",
   "nbconvert_exporter": "python",
   "pygments_lexer": "ipython3",
   "version": "3.8.12"
  }
 },
 "nbformat": 4,
 "nbformat_minor": 5
}
