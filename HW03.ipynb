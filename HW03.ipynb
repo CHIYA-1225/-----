{
 "cells": [
  {
   "cell_type": "markdown",
   "id": "6cad3049",
   "metadata": {},
   "source": [
    "1.查驗圖徑節點，是否有空資料，修正物件函式中錯誤，不將此空資料納入圖徑。\n",
    "2.擴增圖徑繪製函式，使得權重較大者，節點面積亦隨之增大。"
   ]
  },
  {
   "cell_type": "code",
   "execution_count": 40,
   "id": "614ea029",
   "metadata": {},
   "outputs": [],
   "source": [
    "import os\n",
    "import pandas\n",
    "from tabulate import tabulate\n",
    "#去powershell download"
   ]
  },
  {
   "cell_type": "code",
   "execution_count": 41,
   "id": "542cbdd2",
   "metadata": {},
   "outputs": [],
   "source": [
    "import matplotlib.font_manager as font_manager\n",
    "import matplotlib.pyplot as plt\n",
    "from matplotlib.ticker import MaxNLocator\n",
    "import networkx\n",
    "from networkx.readwrite import json_graph"
   ]
  },
  {
   "cell_type": "code",
   "execution_count": 42,
   "id": "0380fb83",
   "metadata": {},
   "outputs": [],
   "source": [
    "#from GameHistory import GameHistory"
   ]
  },
  {
   "cell_type": "code",
   "execution_count": 43,
   "id": "2c271acb",
   "metadata": {},
   "outputs": [],
   "source": [
    "class GameHistory():\n",
    "    def __init__(self, game_dimension=(19, 19), game_players=6, game_members=8):\n",
    "        self.game_history_folder = 'C:\\\\Users\\\\user\\\\anaconda3\\\\Projects\\\\BizCases\\\\SurvivalGame'\n",
    "        self.game_dimension = game_dimension\n",
    "        self.game_players = 6\n",
    "        self.game_members = 8\n",
    "        self.game_history = None\n",
    "        \n",
    "    def get_game_history(self):\n",
    "        game_history_csv = '%s/GameHistory/GAME-%d-%d.csv' % (\n",
    "            self.game_history_folder, self.game_players, self.game_members)\n",
    "\n",
    "        if not os.path.exists(game_history_csv):\n",
    "            print('%s 檔案不存在' % game_history_csv)\n",
    "            self.game_history = None\n",
    "            return None\n",
    "\n",
    "        self.game_history = pandas.read_csv(game_history_csv, header=0, encoding='utf8')\n",
    "        self.game_history.sort_values(by=['epoch', 'player'], inplace=True)\n",
    "\n",
    "        return self.game_history\n",
    "    \n",
    "    def game_history_exists(self):\n",
    "        return self.game_history is not None\n",
    "    \n",
    "    def get_game_last_epoch(self):\n",
    "        _last_epoch = -1\n",
    "        \n",
    "        if self.game_history_exists():\n",
    "            _last_epoch = self.game_history['epoch'].unique().max()\n",
    "            \n",
    "        return _last_epoch\n",
    "    \n",
    "    def get_game_epoch(self, my_game_epoch=0):\n",
    "        return self.game_history.loc[self.game_history['epoch'] == my_game_epoch].copy()\n",
    "    \n",
    "    def get_game_survivor_left(self, my_game_survivor_left=1):\n",
    "        _game_epochs = sorted(self.game_history['epoch'].unique())\n",
    "        \n",
    "        for _game_epoch in _game_epochs:\n",
    "            _survivor_left_epoch = self.game_history.loc[self.game_history['epoch'] == _game_epoch].copy()\n",
    "            _survivor_left = _survivor_left_epoch.groupby(['player']).agg('count')\n",
    "                   \n",
    "            if _survivor_left.shape[0] == my_game_survivor_left:\n",
    "                return self.game_history.loc[self.game_history['epoch'] == _game_epoch]\n",
    "            \n",
    "        return None\n",
    "    \n",
    "    def output_game_history(self, my_game_history):\n",
    "        if my_game_history.empty:\n",
    "            return\n",
    "        \n",
    "        print(tabulate(my_game_history[['epoch', 'player', 'x', 'y', 'weight']], \n",
    "               headers=['世代', '玩家', '座標-X', '座標-Y', '權重'], showindex=False))\n"
   ]
  },
  {
   "cell_type": "code",
   "execution_count": 52,
   "id": "7a623870",
   "metadata": {},
   "outputs": [],
   "source": [
    "class PlotGameNeowrks(GameHistory):\n",
    "    def __init__(self, game_dimension=(19, 19), game_players=6, game_members=8):\n",
    "        GameHistory.__init__(self, game_dimension, game_players, game_members)\n",
    "        self.plot_font = font_manager.FontProperties(fname='C:/Windows/Fonts/simsun.ttc', size=10)    \n",
    "        \n",
    "    #以世代為中心,將player及其memeber畫圖\n",
    "    def get_epoch_graph(self, my_game_epoch=0):\n",
    "        _subset = self.get_game_epoch(my_game_epoch).sort_values(by=['player']) #將特定世代存入dataframe\n",
    "        #從dataframe中分別儲存player和member\n",
    "        _players = sorted(_subset['player'].unique())\n",
    "        _members = sorted(_subset['member'].unique())\n",
    "\n",
    "        G = networkx.Graph() #建立一個graph圖紙\n",
    "        #加入點和邊的內容\n",
    "        for player in _players:\n",
    "            G.add_edge('Epoch-%d' % my_game_epoch, player) #建立中心節點連結player\n",
    "\n",
    "            for member in _members:\n",
    "                _node_id = '%s-%d' % (player, member) #定義node的id\n",
    "                _subset2 = _subset.loc[(_subset['player'] == player) & (_subset['member'] == member)] #當前的player及其memeber\n",
    "    \n",
    "                if _subset2.shape[0] > 0:\n",
    "                    G.add_edge(player, _node_id) #把點連在一起，建立鄰近矩陣\n",
    "\n",
    "                    networkx.set_node_attributes(G, {#加入node資訊和權重\n",
    "                        _node_id: {'x': _subset2['x'].values, \n",
    "                                    'y': _subset2['y'].values, \n",
    "                                    'weight': _subset2['weight'].values}\n",
    "                    })\n",
    "                    #針對G這個graph，有_node_id為節點可以設定像是顏色等等\n",
    "\n",
    "\n",
    "        return G   \n",
    "\n",
    "    \n",
    "    \n",
    "    def get_survivor_left_by_graph(self):\n",
    "        game_networks = dict()\n",
    "        \n",
    "        for epoch in sorted(self.game_history['epoch'].unique()):#每個epoch找唯一的\n",
    "            _G = self.get_epoch_graph(epoch)\n",
    "\n",
    "            for node_id, num_of_edges in _G.degree(): #把陣列_G.degree中的兩個元素分別放入node_id, num_of_edges中\n",
    "                if node_id == 'Epoch-%d' % (epoch):\n",
    "                    if num_of_edges not in game_networks: #跑完一次玩家6後，在玩家數還是6的時候就不會繼續新增東西\n",
    "                        game_networks[num_of_edges] = [epoch, _G] \n",
    "\n",
    "        return game_networks \n",
    "    \n",
    "    def get_survivor_left_by_graph(self):\n",
    "        game_networks = dict() #jason\n",
    "        \n",
    "        for epoch in sorted(self.game_history['epoch'].unique()): #各個epoch\n",
    "            _G = self.get_epoch_graph(epoch) #特定epoch的圖\n",
    "\n",
    "            for node_id, num_of_edges in _G.degree(): #特定世代中的邊數量(用來計算存活數量)\n",
    "                if node_id == 'Epoch-%d' % (epoch):\n",
    "                    if num_of_edges not in game_networks: #若沒有存入過\n",
    "                        game_networks[num_of_edges] = [epoch, _G] #依存活數量做分類,存入世代[0]和圖[1]->[[存活數量][世代,圖]]\n",
    "\n",
    "        return game_networks\n",
    "    \n",
    "    def get_game_history_by_grpah(self, game_epoch_networks): #(陣列)\n",
    "        for node in game_epoch_networks[1].nodes(data=True): #[1]得到[epoch,_G]\n",
    "            if 'weight' in node[1]: #node[1]為G,node[0]為epoch\n",
    "                if len(node[1]['weight']) > 0:\n",
    "                    print('%s (%2d, %2d): %d' % (node[0], node[1]['x'], node[1]['y'], node[1]['weight']))\n",
    "\n",
    "\n",
    "\n",
    "                    \n",
    "    def get_weight(self,game_graph):\n",
    "        _weight = dict()\n",
    "        _epoch = -1\n",
    "        _survivor_left = 0\n",
    "        \n",
    "        for node_id, node_info in game_graph.nodes(data=True):\n",
    "            if 'weight' in node_info:\n",
    "                _weight[node_id] = int(node_info['weight'] * 5) #將權重放大\n",
    "                \n",
    "            else:\n",
    "                if '-' in node_id:\n",
    "                    _epoch = int(node_id.split('-')[1]) #拆分出epoch數\n",
    "                else:\n",
    "                    _survivor_left += 1\n",
    "                    \n",
    "        return _weight, _epoch, _survivor_left\n",
    "    \n",
    "    \n",
    "    \n",
    "    def plot_graph(self, game_graph):\n",
    "        _weight, _epoch, _survivor_left = self.get_weight(game_graph)\n",
    "\n",
    "        weight = networkx.get_edge_attributes(game_graph, 'weight').values()\n",
    "        \n",
    "        fig, ax = plt.subplots(dpi=120, figsize=(8, 8))\n",
    "        networkx.draw(game_graph, ax=ax, \n",
    "                      font_family=[self.plot_font.get_name()], \n",
    "                      font_size=10,\n",
    "                      with_labels=True,\n",
    "                      nodelist=_weight.keys(),\n",
    "                      node_size=[i * 100 for i in _weight.values()]\n",
    "                      )\n",
    "        \n",
    "        plt.show()"
   ]
  },
  {
   "cell_type": "code",
   "execution_count": 53,
   "id": "98589f5a",
   "metadata": {},
   "outputs": [
    {
     "name": "stdout",
     "output_type": "stream",
     "text": [
      "   0\t6\n",
      "  40\t4\n",
      "  84\t3\n",
      " 232\t2\n",
      " 539\t1\n"
     ]
    }
   ],
   "source": [
    "if __name__ == '__main__':\n",
    "    worker = PlotGameNeowrks(game_dimension=(19, 19),\n",
    "                             game_players=6,\n",
    "                             game_members=8)\n",
    "    \n",
    "    game_history = worker.get_game_history()\n",
    "    \n",
    "    \n",
    "    game_networks = worker.get_survivor_left_by_graph()\n",
    "                       \n",
    "    for survivor_left in game_networks:\n",
    "        survivor_info = game_networks[survivor_left]      \n",
    "        print('%4d\\t%d' % (survivor_info[0], survivor_left))"
   ]
  },
  {
   "cell_type": "code",
   "execution_count": 54,
   "id": "02f07466",
   "metadata": {},
   "outputs": [
    {
     "data": {
      "image/png": "[encoded data removed]",
      "text/plain": [
       "<Figure size 960x960 with 1 Axes>"
      ]
     },
     "metadata": {},
     "output_type": "display_data"
    }
   ],
   "source": [
    "worker.get_survivor_left_by_graph()\n",
    "worker.plot_graph(game_networks[3][1]) #以epoch84為例，前面的3為剩下三組人，後面的1為圖(0是epoch數)"
   ]
  },
  {
   "cell_type": "code",
   "execution_count": 55,
   "id": "3a3097bb",
   "metadata": {},
   "outputs": [
    {
     "name": "stdout",
     "output_type": "stream",
     "text": [
      "俄-0 ( 9,  2): 6\n",
      "俄-1 ( 4, 15): 1\n",
      "俄-2 ( 5, 18): 1\n",
      "德-0 (17,  5): 1\n",
      "德-2 ( 3,  9): 1\n",
      "德-4 (18,  2): 1\n",
      "法-0 ( 2, 10): 2\n",
      "法-2 (11, 11): 2\n"
     ]
    }
   ],
   "source": [
    "worker.get_game_history_by_grpah(game_networks[3])"
   ]
  },
  {
   "cell_type": "code",
   "execution_count": null,
   "id": "08613170",
   "metadata": {},
   "outputs": [],
   "source": []
  }
 ],
 "metadata": {
  "kernelspec": {
   "display_name": "Python 3 (ipykernel)",
   "language": "python",
   "name": "python3"
  },
  "language_info": {
   "codemirror_mode": {
    "name": "ipython",
    "version": 3
   },
   "file_extension": ".py",
   "mimetype": "text/x-python",
   "name": "python",
   "nbconvert_exporter": "python",
   "pygments_lexer": "ipython3",
   "version": "3.8.12"
  }
 },
 "nbformat": 4,
 "nbformat_minor": 5
}
