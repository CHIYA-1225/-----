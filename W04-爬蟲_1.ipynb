{
 "cells": [
  {
   "cell_type": "markdown",
   "id": "691c9079",
   "metadata": {},
   "source": [
    "<h3>細微作法</h3>"
   ]
  },
  {
   "cell_type": "code",
   "execution_count": 1,
   "id": "7b88b7ba",
   "metadata": {},
   "outputs": [],
   "source": [
    "import requests #處理http,url\n",
    "from bs4 import BeautifulSoup #爬蟲套件\n",
    "\n",
    "import codecs #讀取外部檔案\n",
    "import json"
   ]
  },
  {
   "cell_type": "code",
   "execution_count": 2,
   "id": "6cd2849d",
   "metadata": {},
   "outputs": [],
   "source": [
    "import pandas\n",
    "from pandas import DataFrame"
   ]
  },
  {
   "cell_type": "code",
   "execution_count": 3,
   "id": "02925c2a",
   "metadata": {},
   "outputs": [
    {
     "name": "stdout",
     "output_type": "stream",
     "text": [
      "apparent_encoding\n",
      "close\n",
      "connection\n",
      "content\n",
      "cookies\n",
      "elapsed\n",
      "encoding\n",
      "headers\n",
      "history\n",
      "is_permanent_redirect\n",
      "is_redirect\n",
      "iter_content\n",
      "iter_lines\n",
      "json\n",
      "links\n",
      "next\n",
      "ok\n",
      "raise_for_status\n",
      "raw\n",
      "reason\n",
      "request\n",
      "status_code\n",
      "text\n",
      "url\n"
     ]
    }
   ],
   "source": [
    "#F12\n",
    "url_domain = 'http://www.edomtech.com/tw'\n",
    "wp_00 = '/manufacturers/index.php'\n",
    "\n",
    "app_config = None\n",
    "\n",
    "#打開擷取到的json\n",
    "with codecs.open('C:\\\\Users\\\\user\\\\anaconda3\\\\Projects\\\\BizCases\\\\data/製造商-清單.JSON', 'r', encoding='utf8') as R:\n",
    "    app_config = json.load(R)\n",
    "    \n",
    "#擷取第二頁    \n",
    "page_no = 2\n",
    "url = '%s/%s?page=%d' % (url_domain, wp_00, page_no)\n",
    "response = requests.get(url) \n",
    "if not response.ok:\n",
    "    print('擷取失敗')\n",
    "\n",
    "for method in dir(response): #查詢物件有哪些方法\n",
    "    if '_' == method[0]: #_多為python內部使用\n",
    "        continue\n",
    "        \n",
    "    print(method)"
   ]
  },
  {
   "cell_type": "markdown",
   "id": "ef7aa34f",
   "metadata": {},
   "source": [
    "response.content ->binary\n",
    "<br>response.ok ->是否擷取成功\n",
    "<br>response.encoding ->查詢網頁的編碼\n",
    "<br>response.status_code ->200表示成功,同ok\n",
    "<br>response.json() ->同上\n",
    "<br>response.text  ->網頁內容"
   ]
  },
  {
   "cell_type": "code",
   "execution_count": 4,
   "id": "33dcaee2",
   "metadata": {},
   "outputs": [
    {
     "data": {
      "text/plain": [
       "'<!DOCTYPE html>\\n<html lang=\"en\">\\n<head>\\n<meta charset=\"utf-8\">\\n<!--手機解析度-->\\n<meta name=\"viewport\" content=\"width=device-width, initial-scale=1.0\">\\n<title>製造商-益登科技</title>\\n<meta name=\"description\" content=\"益登科技\">\\n\\n<!--open graph protocol-->\\n<meta property=\"og:title\" content=\"製造商-益登科技\">\\n<meta property=\"og:image\" content=\"https://www.edomtech.com/tw/upload/base_fb_img/2a9039f33ccb9eff6c83a10a888a049e.png\">\\n<meta property=\"og:description\" content=\"益登科技\">\\n<meta property=\"og:site_name\" content=\"益登科技\">\\n<meta property=\"og:url\" content=\"https://www.edomtech.com/tw//manufacturers/index.php?page=2\">\\n<meta property=\"og:type\" content=\"website\">\\n\\n\\n<!--bread script-->\\n<script type=\"application/ld+json\">\\n{\\n  \"@context\": \"http://schema.org\",\\n  \"@type\": \"BreadcrumbList\",\\n  \"itemListElement\": [\\n\\t  {\\n\\t\\t\"@type\": \"ListItem\",\\n\\t\\t\"position\": 1,\\n\\t\\t\"item\": {\\n\\t\\t  \"@id\": \"https://www.edomtech.com/tw/\",\\n\\t\\t  \"name\": \"EDOM\"\\n\\t\\t\\t}\\n\\t  },\\n\\t  {\\n\\t\\t\"@type\": \"ListItem\",\\n\\t\\t\"position\": 2,\\n\\t\\t\"item\": {\\n\\t\\t  \"@id\": \"https://www.edomtech.com/tw/manufacturers/\",\\n\\t\\t  \"name\": \"製造商\"\\n\\t\\t\\t}\\n\\t  }  ]\\n}\\n</script>\\n<!--css-->\\n<link rel=\"stylesheet\" type=\"text/css\" href=\"../css/master.css\">\\n<link rel=\"stylesheet\" type=\"text/css\" href=\"../css/manufacturers.css\">\\n<!--ga-->\\n<!-- Global site tag (gtag.js) - Google Ads -->\\r\\n<script async src=\"https://www.googletagmanager.com/gtag/js?id=AW-757338766\"></script>\\r\\n<script>\\r\\n  window.dataLayer = window.dataLayer || [];\\r\\n  function gtag(){dataLayer.push(arguments);}\\r\\n  gtag(\\'js\\', new Date());\\r\\n\\r\\n  gtag(\\'config\\', \\'AW-757338766\\');\\r\\n  gtag(\\'config\\', \\'AW-640839442\\');\\r\\n</script>\\r\\n\\r\\n<!-- Google Tag Manager -->\\r\\n<script>(function(w,d,s,l,i){w[l]=w[l]||[];w[l].push({\\'gtm.start\\':\\r\\nnew Date().getTime(),event:\\'gtm.js\\'});var f=d.getElementsByTagName(s)[0],\\r\\nj=d.createElement(s),dl=l!=\\'dataLayer\\'?\\'&l=\\'+l:\\'\\';j.async=true;j.src=\\r\\n\\'https://www.googletagmanager.com/gtm.js?id=\\'+i+dl;f.parentNode.insertBefore(j,f);\\r\\n})(window,document,\\'script\\',\\'dataLayer\\',\\'GTM-PG432FN\\');</script>\\r\\n<!-- End Google Tag Manager -->\\r\\n\\r\\n<!-- Facebook Pixel Code -->\\r\\n<script>\\r\\n  !function(f,b,e,v,n,t,s)\\r\\n  {if(f.fbq)return;n=f.fbq=function(){n.callMethod?\\r\\n  n.callMethod.apply(n,arguments):n.queue.push(arguments)};\\r\\n  if(!f._fbq)f._fbq=n;n.push=n;n.loaded=!0;n.version=\\'2.0\\';\\r\\n  n.queue=[];t=b.createElement(e);t.async=!0;\\r\\n  t.src=v;s=b.getElementsByTagName(e)[0];\\r\\n  s.parentNode.insertBefore(t,s)}(window, document,\\'script\\',\\r\\n  \\'https://connect.facebook.net/en_US/fbevents.js\\');\\r\\n  fbq(\\'init\\', \\'1819457151623310\\');\\r\\n  fbq(\\'track\\', \\'PageView\\');\\r\\n</script>\\r\\n<noscript><img height=\"1\" width=\"1\" style=\"display:none\"\\r\\n  src=\"https://www.facebook.com/tr?id=1819457151623310&ev=PageView&noscript=1\"\\r\\n/></noscript>\\r\\n<!-- End Facebook Pixel Code -->\\n<!--favor icon-->\\n<link rel=\"shortcut icon\" href=\"../images/touch-icon/touch-icon-iphone.png\" />\\n\\n<!--touch_icon-->\\n<link rel=\"apple-touch-icon\" href=\"../images/touch-icon/touch-icon-iphone.png\" /> \\n<link rel=\"apple-touch-icon\" sizes=\"76x76\" href=\"../images/touch-icon/touch-icon-ipad.png\" /> \\n<link rel=\"apple-touch-icon\" sizes=\"120x120\" href=\"../images/touch-icon/touch-icon-iphone-retina.png\" />\\n<link rel=\"apple-touch-icon\" sizes=\"152x152\" href=\"../images/touch-icon/touch-icon-ipad-retina.png\" />\\n\\n<!--<script type=\"text/javascript\" src=\"http://code.jquery.com/jquery-1.8.3.min.js\"></script>-->\\n<script src=\"../database/function/jquery-3.6.0.min.js\"></script>\\r\\n<script async src=\"../database/function/ui/jquery.blockUI.js\"></script>\\r\\n<script async src=\"../database/function/ui/jquery.form.js\"></script> \\r\\n<script src=\"../database/function/ajax_function.js\"></script> \\r\\n<script async src=\"../database/function/script.js\"></script>\\r\\n<script>\\r\\nfunction open_layer_detail(div_name,width,height){\\r\\n\\tif(width==\\'\\'){\\r\\n\\t\\twidth=0;\\r\\n\\t}\\r\\n\\tif(height==\\'\\'){\\r\\n\\t\\theight=0;\\r\\n\\t}\\r\\n\\t$.blockUI({\\r\\n\\tmessage:$(\\'#\\'+div_name),\\r\\n\\t\\tcss:{ \\r\\n\\t\\tcursor:\\'default\\',\\r\\n\\t\\twidth: width + \\'px\\',\\r\\n\\t\\theight:height+ \\'px\\',\\r\\n\\t\\tpadding:\\'0px\\',\\r\\n\\t\\ttop:($(window).height()-height)/2 + \\'px\\',\\r\\n\\t\\tleft:($(window).width()-width)/2 + \\'px\\'\\r\\n\\t\\t}\\r\\n\\t});\\t\\t\\r\\n}\\r\\nfunction open_loading_status(loading_name){\\r\\n\\twidth=$(\\'#\\'+loading_name).css(\\'width\\').replace(\"px\",\"\");\\r\\n\\theight=$(\\'#\\'+loading_name).css(\\'height\\').replace(\"px\",\"\");\\r\\n\\t$.blockUI({\\r\\n\\tmessage:$(\\'#\\'+loading_name),\\r\\n\\t\\tcss:{ \\r\\n\\t\\tcursor:\\'default\\',\\r\\n\\t\\tborder:\\'\\',\\r\\n\\t\\tbackgroundColor:\\'\\',\\r\\n\\t\\twidth: width + \\'px\\',\\r\\n\\t\\theight:height+ \\'px\\',\\r\\n\\t\\tpadding:\\'0px\\',\\r\\n\\t\\ttop:($(window).height()-height)/2 + \\'px\\',\\r\\n\\t\\tleft:($(window).width()-width)/2 + \\'px\\'\\r\\n\\t\\t}\\r\\n\\t});\\r\\n}\\r\\nfunction close_layer_detail(){\\r\\n\\t$.unblockUI();\\r\\n}\\r\\nfunction close_top_layer_detail(){\\r\\n\\ttop.$.unblockUI();\\r\\n}\\r\\n//建立執行的div\\r\\n$(function(){\\r\\n\\t$(\\'body\\').prepend(\"<span id=\\'iframe_string\\'></span>\");\\r\\n\\t$(\\'body\\').prepend(\\'<div id=\"waiting_action\" style=\"display:none;text-align:center;position: absolute;z-index: 99998;color:#FFF;font-size:12px;border:0px;\"><img src=\"../database/function/loading_type/loading_big.gif\" hspace=\"2\" align=\"absmiddle\"/><br><img src=\"../database/function/loading_type/loading_text.png\" hspace=\"2\" align=\"absmiddle\"/></div>\\');\\r\\n});\\r\\n//end\\r\\n</script>\\n<script>\\n    var isMobile = false;\\n    var isTablet =false;\\n    var isAndroidOS =false;\\n    var isiOS =false;\\n    var isSafari =false;\\n</script>\\n\\n<!-- IE Fix for HTML5 Tags -->\\n<!--[if lt IE 9]>\\n<script src=\"http://html5shiv.googlecode.com/svn/trunk/html5.js\"></script>\\n<![endif]-->\\n\\n</head>\\n\\n<body>\\n<!-- Google Tag Manager (noscript) -->\\n<noscript><iframe src=\"https://www.googletagmanager.com/ns.html?id=GTM-PG432FN\" height=\"0\" width=\"0\" style=\"display:none;visibility:hidden\"></iframe></noscript>\\n<!-- End Google Tag Manager (noscript) -->\\n<!--洽詢單浮動視窗-->\\n<div class=\"cartArea\" id=\"inquiryCart\"><!--cartArea-->\\r\\n\\t<div class=\"wrap b-box\"><!--wrap-->\\r\\n\\t\\t<a id=\"closeInquiry\" onClick=\"Custombox.close()\"><i class=\"fa fa-remove\"></i></a>\\r\\n        \\r\\n        <ul class=\"cart clearfix\" id=\"car_list_html\">\\r\\n        </ul>\\r\\n        <div class=\"countBox clearfix\"><!--countBox-->\\r\\n            <a href=\"../inquiry\" class=\"btn_pay\" id=\"goto_pay_btn\">確認送出</a>\\r\\n        </div><!--countBox end-->\\r\\n\\t</div><!--wrap end-->\\r\\n</div><!--cartArea end-->\\r\\n<span id=\"inquiry_script_html\"></span>\\r\\n<script language=\"javascript\">\\r\\nfunction car_list_fun(){\\r\\n\\tjq_post_noloading(\\'../inquiry/act.php\\',\\'act=21\\',\\'car_list_html\\');\\t\\r\\n}\\r\\n</script>\\n<!--會員登入浮動視窗-->\\n<!--會員登入-->\\r\\n<!--loginArea-->\\r\\n<div class=\"loginArea b-box\"><!--loginArea-->\\r\\n    <div class=\"box\"><!--box-->\\r\\n        <a id=\"closeLogin\" onClick=\"Custombox.close()\"><i class=\"fa fa-remove\"></i></a>\\r\\n        <div class=\"login\"><!--login-->\\r\\n            <input name=\"login_account\" type=\"text\" class=\"b-box\" id=\"login_account\" placeholder=\"email\">\\r\\n            <input name=\"login_pwd\" type=\"password\" class=\"b-box\" id=\"login_pwd\" placeholder=\"password\" autocomplete=\"off\">\\r\\n            <div class=\"btn\"><a class=\"login_btn_status\" style=\"cursor:pointer\" onClick=\"login_btn();\">登入</a><i class=\"fa fa-spinner fa-spin login_loading_status\"  style=\"display:none\"></i></div>\\r\\n            <div class=\"forget\"><!--forget-->\\r\\n                <strong><a class=\"btn_forget\">忘記密碼?</a></strong><span>│</span><b><a href=\"../member/register.php\">註冊</a></b>\\r\\n            </div><!--forget end-->\\r\\n        </div><!--login end-->\\r\\n      <div class=\"forgetCheck\"><!--forgetCheck-->\\r\\n            <a class=\"btn_relog\">< 重新登入</a>\\r\\n            <input name=\"email_chk\" type=\"text\" class=\"b-box\" id=\"email_chk\" placeholder=\"e-mail\">\\r\\n            <div class=\"btn\"><a class=\"btn_color1 forget_btn_status\" style=\"cursor:pointer\" onClick=\"forget_btn();\">確認送出</a><i class=\"fa fa-spinner fa-spin forget_loading_status\"  style=\"display:none\"></i></div>\\r\\n        </div><!--forgetCheck end-->\\r\\n  </div><!--box end-->\\r\\n</div><!--loginArea end-->\\r\\n<script language=\"javascript\">\\r\\nfunction login_btn(){\\r\\n\\tvar errors=\\'\\';\\r\\n\\tif($(\\'.loginArea #login_account\\').val()==\\'\\'){\\r\\n\\t\\terrors += \\'- \\'+\\'E-mail is required.\\\\n\\';\\r\\n\\t}else if(! isEmail($(\\'.loginArea #login_account\\').val())){\\r\\n\\t\\terrors+=\\'- Wrong Email Format.\\\\n\\';\\r\\n\\t}\\r\\n\\tif($(\\'.loginArea #login_pwd\\').val()==\\'\\'){\\r\\n\\t\\terrors += \\'- \\'+\\'Password is required.\\\\n\\';\\r\\n\\t}\\r\\n\\tif(errors!=\\'\\'){\\r\\n\\t\\talert(\\'Error：\\\\n\\'+errors);\\r\\n\\t\\treturn false;\\r\\n\\t}\\r\\n\\t//open_loading_status(\\'waiting_action\\');\\r\\n\\t$(\".login_btn_status\").hide();\\r\\n\\t$(\".login_loading_status\").show();\\r\\n\\tjq_post_noloading(\\'../member/act.php\\',\\'act=22&login_path=../&login_account=\\' + $(\\'.loginArea #login_account\\').val() + \\'&login_pwd=\\' + $(\\'.loginArea #login_pwd\\').val(),\\'iframe_string\\');\\r\\n}\\r\\nfunction forget_btn(){\\r\\n\\tvar errors=\\'\\';\\r\\n\\tif($(\\'.loginArea #email_chk\\').val()==\\'\\' ){\\r\\n\\t\\terrors += \\'- \\'+\\'E-mail is required.\\\\n\\';\\r\\n\\t}else if(! isEmail($(\\'.loginArea #email_chk\\').val())){\\r\\n\\t\\terrors+=\\'- Wrong Email Format.\\\\n\\';\\r\\n\\t}\\r\\n\\tif(errors!=\\'\\'){\\r\\n\\t\\talert(\\'Error：\\\\n\\'+errors);\\r\\n\\t\\treturn false;\\r\\n\\t}\\r\\n\\t$(\".forget_btn_status\").hide();\\r\\n\\t$(\".forget_loading_status\").show();\\r\\n\\t//open_loading_status(\\'waiting_action\\');\\r\\n\\tjq_post_noloading(\\'../member/act.php\\',\\'act=21&email_chk=\\'+$(\\'.loginArea #email_chk\\').val() ,\\'iframe_string\\');\\r\\n}\\r\\n</script>\\r\\n<script>\\r\\n$(function(){\\t\\t\\r\\n\\t/*開啟會員登入*/\\r\\n\\t// $(\\'body\\').on(\\'click\\',\\'.loginToggle\\',function(){\\r\\n\\t// \\t$.blockUI({\\r\\n\\t// \\t\\tmessage:$(\\'.loginArea\\'),\\r\\n\\t// \\t\\tonOverlayClick: $.unblockUI,\\r\\n\\t// \\t\\tonBlock:function(){\\r\\n\\t// \\t\\t\\t$(\\'input\\').blur();\\r\\n\\t// \\t\\t}\\r\\n\\t// \\t});\\r\\n\\t// \\treturn false;\\r\\n\\t// });\\r\\n\\t/*關閉會員登入*/\\r\\n\\t// $(\\'#closeLogin\\').click(function(){\\r\\n\\t// \\t$.unblockUI(); \\r\\n\\t// \\treturn false;\\r\\n\\t// });\\r\\n\\t $(\\'.btn_forget\\').click(function(){\\r\\n\\t\\t$(\\'.forgetCheck\\').slideDown(200);\\r\\n\\t\\t$(\\'.login\\').slideUp(200);\\r\\n\\t });\\r\\n\\t $(\\'.btn_relog\\').click(function(){\\r\\n\\t\\t$(\\'.forgetCheck\\').slideUp(200);\\r\\n\\t\\t$(\\'.login\\').slideDown(200);\\r\\n\\t })\\r\\n    $(\\'.loginToggle\\').on(\\'click\\', function( e ) {\\r\\n        Custombox.open({\\r\\n            target: \\'.loginArea\\',\\r\\n            effect: \\'fadein\\'\\r\\n        });\\r\\n        e.preventDefault();\\r\\n    });\\r\\n});\\r\\n</script>\\r\\n\\n<div class=\"outerWrap b-box\"><!--outerWrap-->\\n    <header><!--header-->\\n        <div class=\"wrap b-box clearfix\"><!--wrap-->\\n            <div class=\"left\"><!-- left -->\\n                <div class=\"logo\"><a href=\"https://www.edomtech.com/tw/\" title=\"益登科技\">益登科技</a></div>\\n                <div class=\"languageBox\">\\n                    <span>Language</span>\\n                    <ul>\\n                        <li><a href=\"../../en/\" class=\"en\">English</a></li>\\n                        <li><a href=\"../../cn/\" class=\"ch\">简体中文</a></li>\\n                        <li><a href=\"../../tw/\" class=\"tw\">繁體中文</a></li>\\n                    </ul>\\n                </div>\\n            </div><!-- left end -->\\n            <div class=\"right\"><!-- right -->\\n                <ul class=\"menuLink\">\\n                    <li class=\"product\">\\n                        <a href=\"../product/\">產品</a>\\n                        <div class=\"subMenu\">\\n                                    <a href=\"../product/list.php?index_m1_id=142\" >類比IC</a>\\n        <a href=\"../product/list.php?index_m1_id=324\" >電池</a>\\n        <a href=\"../product/list.php?index_m1_id=144\" >連接器</a>\\n        <a href=\"../product/list.php?index_m1_id=190\" >離散式元件</a>\\n        <a href=\"../product/list.php?index_m1_id=188\" >嵌入式模組</a>\\n        <a href=\"../product/list.php?index_m1_id=192\" >積體電路 (IC)</a>\\n        <a href=\"../product/list.php?index_m1_id=186\" >記憶體</a>\\n        <a href=\"../product/list.php?index_m1_id=184\" >微型組件</a>\\n        <a href=\"../product/list.php?index_m1_id=146\" >非光學感測器</a>\\n        <a href=\"../product/list.php?index_m1_id=182\" >光電產品</a>\\n        <a href=\"../product/list.php?index_m1_id=180\" >被動元件</a>\\n        <a href=\"../product/list.php?index_m1_id=178\" >測試及測量</a>\\n        <a href=\"../product/list.php?index_m1_id=341\" >機電產品</a>\\n        <a href=\"../product/list.php?index_m1_id=148\" >其它/未分類</a>\\n        <a href=\"../product/list.php?index_m1_id=348\" >軟體類</a>\\n                        </div>\\n                    </li>\\n                    <li class=\"solution\">\\n                        <a>解決方案</a>\\n                        <div class=\"subMenu\">\\n                                    <a href=\"../solution/index.php?index_m_id=20\" id=\"room_m_20\"  class=\"current\">車用</a>\\n                <a href=\"../solution/index.php?index_m_id=22\" id=\"room_m_22\" >運算</a>\\n                <a href=\"../solution/index.php?index_m_id=24\" id=\"room_m_24\" >消費性電子</a>\\n                <a href=\"../solution/index.php?index_m_id=27\" id=\"room_m_27\" >物聯網 (IoT)</a>\\n                <a href=\"../solution/index.php?index_m_id=34\" id=\"room_m_34\" >醫療</a>\\n                <a href=\"../solution/index.php?index_m_id=28\" id=\"room_m_28\" >行動裝置</a>\\n                <a href=\"../solution/index.php?index_m_id=21\" id=\"room_m_21\" >網通&資料中心</a>\\n                <a href=\"../solution/index.php?index_m_id=31\" id=\"room_m_31\" >合作夥伴</a>\\n        \\t                        </div>\\n                    </li>\\n                    <li><a href=\"../manufacturers/\">製造商</a></li>\\n                                        <li class=\"icon cart\">\\n                        <a href=\"https://store.edomtech.com\" target=\"_blank\">\\n                            <svg class=\"icon-cart\">\\n                                <use xlink:href=\"#icon-cart\"></use>\\n                            </svg>\\n                        </a>\\n                    </li>\\n                                        <li class=\"icon search\">\\n                        <a href=\"javascript:;\" class=\"headerSearch\">\\n                            <svg class=\"icon-search\">\\n                                <use xlink:href=\"#icon-search\"></use>\\n                            </svg>\\n                        </a>\\n                    </li>\\n                </ul>\\n                <ul class=\"menuInnerLink\">\\n                    <li>\\n                        <a href=\"https://zh-tw.facebook.com/EDOMTechnology/\" target=\"_blank\" class=\"fb\">\\n                            <i class=\"fa fa-facebook\" aria-hidden=\"true\"></i>\\n                        </a>\\n                    </li>\\n                    <li>\\n                        <a href=\"https://www.linkedin.com/company/edom-technology\" target=\"_blank\" class=\"linkedin\">\\n                            <i class=\"fa fa-linkedin\" aria-hidden=\"true\"></i>\\n                        </a>\\n                    </li>\\n                    <li>\\n                                                <a href=\"//www.edom.com.tw/upload/download_files/23c0befab409c40e94f8a652adc02f4b.jpg\" data-fancybox class=\"weixin\">\\n                            <i class=\"fa fa-weixin\" aria-hidden=\"true\"></i>\\n                        </a>\\n                                            </li>\\n                    <li class=\"icon\">\\n                        <a href=\"mailto:sales@edom-tech.com\" class=\"mail\">\\n                            <i class=\"fa fa-envelope\" aria-hidden=\"true\"></i>\\n                        </a>\\n                    </li>\\n                                        <li class=\"btn\">\\n                        <div class=\"btn01\"><a href=\"javascript:;\" class=\"loginToggle login\">登入</a></div>\\n                    </li>\\n                    <li class=\"btn\">\\n                        <div class=\"btn01\"><a href=\"../member/register.php\" class=\"sign\">註冊</a></div>\\n                    </li>\\n                    \\t\\n                    <li class=\"btn headerNewsletter\">\\n                        <div class=\"btn01\"><a href=\"javascript:;\" class=\"openNewsLetter\">訂閱電子報</a></div>\\n                    </li>\\n                </ul>\\n                <a href=\"javascript:;\" class=\"menuBtn\" data-menu=\"0\">\\n                    <span></span>\\n                    <span></span>\\n                    <span></span>\\n                </a>\\n            </div><!-- right end -->\\n            <div class=\"headerMenuInner\"><!-- inner -->\\n                <div class=\"searchBox\"><!-- searchBox -->\\n                    <input name=\"keyword_search\" type=\"text\" class=\"b-box\" id=\"keyword_search\" placeholder=\"搜尋\" value=\"\">\\n                    <a class=\"search\" onclick=\"if($(\\'#keyword_search\\').val()==\\'\\'){ alert(\\'請輸入關鍵字\\');}else{location.href=\\'../search.php?keyword=\\'+encodeURIComponent($(\\'#keyword_search\\').val());}\">\\n                        <svg class=\"icon-search\">\\n                            <use xlink:href=\"#icon-search\"></use>\\n                        </svg>\\n                    </a>\\n                </div><!-- searchBox end -->\\n                <script>\\n                $(function(){\\n                    //電腦板搜尋商品 enter\\n                    $(\\'#keyword_search\\').keydown(function(event){\\n                        if(event.which == 13){\\n                             if($(\\'#keyword_search\\').val()==\\'\\'){ \\n                                alert(\\'請輸入關鍵字...\\');\\n                            }else{ \\n                                location.href=\\'../search.php?keyword=\\'+encodeURIComponent($(\\'#keyword_search\\').val());\\n                            }\\n                        }\\n                    });\\n                });\\n                </script>\\n                <nav class=\"menuBox\"><!--menuBox-->\\n                    <ul class=\"menu cleafix\" itemscope itemtype=\"http://www.schema.org/SiteNavigationElement\"><!--menu-->\\n                        <li itemprop=\"name\">\\n                            <h2>關於益登</h2>\\n                            <a itemprop=\"url\" href=\"../about/\">關於益登</a>\\n                            <a itemprop=\"url\" href=\"../achievements/\">獲獎紀錄</a>\\n                            <a itemprop=\"url\" href=\"../investor/\">投資人關係</a>\\n                            <a itemprop=\"url\" href=\"../report/\">財報下載</a>\\n                            <a itemprop=\"url\" href=\"../financial_news/\">財務新聞</a>\\n                            <a itemprop=\"url\" href=\"../csr/\">企業社會責任</a>\\n                            <a itemprop=\"url\" href=\"../join/\">人才招募</a>\\n                            <a itemprop=\"url\" href=\"../privacy/\">法律聲明</a>\\n                        </li>\\n                        <li itemprop=\"name\">\\n                            <h2>產品資源</h2>\\n                            <a itemprop=\"url\" href=\"../product/\" class=\"product\">產品介紹</a>\\n                            <a itemprop=\"url\" href=\"../solution/\" class=\"solution\">解決方案</a>\\n                            <a itemprop=\"url\" href=\"../manufacturers/\">製造商</a>\\n                            <a itemprop=\"url\" href=\"../download/\">檔案下載</a>\\n                            <a itemprop=\"url\" href=\"../article/\">技術文章</a>\\n                        </li>\\n                        <li itemprop=\"name\">\\n                            <h2>新聞 | 活動</h2>\\n                            <a itemprop=\"url\" href=\"../news/\">最新訊息</a>\\n                                         <a itemprop=\"url\" href=\"../newsletter/\">電子報</a>\\n                            <a itemprop=\"url\" href=\"../events/?type=coming\">活動訊息</a>\\n                        </li>\\n                        <li itemprop=\"name\">\\n                            <h2>聯絡我們</h2>\\n                            <a itemprop=\"url\" href=\"../offices/\">全球據點</a>\\n                            <a itemprop=\"url\" href=\"../inquiry/\">聯絡我們</a>                            \\n                            <span id=\"login_script_code\" style=\"display:none\"></span>\\n                                                            <a class=\"loginToggle\">會員專區</a>\\n                                                    </li>\\n                    </ul><!--menu end-->\\n                </nav><!--menuBox end-->\\n            </div><!-- inner end -->\\n        </div><!--wrap end-->\\n    </header><!--header end-->\\n\\n    \\t<script>\\n        $(function(){\\n            $(\\'ul.menu\\').find(\\'a[href=\"../manufacturers/\"]\\').addClass(\\'current\\');\\n        });\\n    </script>\\n    <!--banner-->\\n    <div class=\"bannerArea main b-box\"><!--bannnerArea-->\\n        <div class=\"wrap b-box\"><!--wrap-->\\n            <div class=\"bannerBox\"><!--bannerBox-->\\n                <img src=\"../../tw/upload/base_banner_img/2a9039f33ccb9eff6c83a10a888a049e.jpg\" alt=\"\">\\n            </div><!--bannerBox end-->\\n            <div class=\"insBox\">\\n                <h2>製造商</h2>\\n                <div class=\"bread\"><!--bread-->\\n                    <a href=\"../\">首頁</a><span>></span><em>製造商</em>\\n                </div><!--bread end-->\\n            </div>\\n        </div><!--wrap end-->\\n    </div><!--bannerArea end-->\\n    <!--main-->\\n    <div class=\"mainArea\"><!--mainArea-->\\n        <div class=\"wrap b-box\"><!--wrap-->\\n            <div class=\"contentBox clearfix\"><!--contentBox-->\\n                <div class=\"classBox\">\\r\\n\\t<ul class=\"classLink02 clearfix\">\\r\\n\\t\\t<li><a href=\"index.php\" class=\"current\">ALL</a></li>\\r\\n\\t\\t\\t\\t<li><a href=\"?letter=A\" >A</a></li>\\r\\n\\t\\t\\t\\t<li><a href=\"?letter=B\" >B</a></li>\\r\\n\\t\\t\\t\\t<li><a href=\"?letter=C\" >C</a></li>\\r\\n\\t\\t\\t\\t<li><a href=\"?letter=D\" >D</a></li>\\r\\n\\t\\t\\t\\t<li><a href=\"?letter=E\" >E</a></li>\\r\\n\\t\\t\\t\\t<li><a href=\"?letter=F\" >F</a></li>\\r\\n\\t\\t\\t\\t<li><a href=\"?letter=G\" >G</a></li>\\r\\n\\t\\t\\t\\t<li><a href=\"?letter=H\" >H</a></li>\\r\\n\\t\\t\\t\\t<li><a href=\"?letter=I\" >I</a></li>\\r\\n\\t\\t\\t\\t<li><a href=\"?letter=K\" >K</a></li>\\r\\n\\t\\t\\t\\t<li><a href=\"?letter=L\" >L</a></li>\\r\\n\\t\\t\\t\\t<li><a href=\"?letter=M\" >M</a></li>\\r\\n\\t\\t\\t\\t<li><a href=\"?letter=N\" >N</a></li>\\r\\n\\t\\t\\t\\t<li><a href=\"?letter=O\" >O</a></li>\\r\\n\\t\\t\\t\\t<li><a href=\"?letter=P\" >P</a></li>\\r\\n\\t\\t\\t\\t<li><a href=\"?letter=Q\" >Q</a></li>\\r\\n\\t\\t\\t\\t<li><a href=\"?letter=R\" >R</a></li>\\r\\n\\t\\t\\t\\t<li><a href=\"?letter=S\" >S</a></li>\\r\\n\\t\\t\\t\\t<li><a href=\"?letter=T\" >T</a></li>\\r\\n\\t\\t\\t\\t<li><a href=\"?letter=U\" >U</a></li>\\r\\n\\t\\t\\t\\t<li><a href=\"?letter=V\" >V</a></li>\\r\\n\\t\\t\\t\\t<li><a href=\"?letter=W\" >W</a></li>\\r\\n\\t\\t\\t\\t<li><a href=\"?letter=X\" >X</a></li>\\r\\n\\t\\t\\t\\t<li><a href=\"?letter=Z\" >Z</a></li>\\r\\n\\t\\t\\t</ul>\\r\\n\\t<div class=\"btn05\"><a href=\"/upload/download_files/68d780abb231cdaf7012e53a4b6ccb36.pdf\" target=\"_blank\">產品卡下載</a></div>\\r\\n</div>\\r\\n                <ul class=\"facList\"><!--facList-->\\n    \\n\\t\\t<li class=\"clearfix\"><!--data-->\\n\\t\\t\\t<div class=\"item clearfix\"><!-- item -->\\n\\t\\t\\t\\t                <div class=\"Img\">\\n                    <a href=\"ins.php?index_id=399\"  title=\"Cyberlink\"><img src=\"../../tw/upload/fac_manufacturers_list_pic/1ae387297994204f390a2e614fc5443f.png\" alt=\"Cyberlink\"></a>\\n                </div>\\n                                <div class=\"Txt b-box\"><!--Txt-->\\n                    <h3><strong><a href=\"ins.php?index_id=399\"  title=\"Cyberlink\">Cyberlink</a></strong></h3>\\n                    <p>訊連科技</p>\\n                </div><!--Txt end-->\\n            </div><!-- item end -->\\n\\t\\t\\t        </li><!--data-->\\n\\t\\t\\t<li class=\"clearfix\"><!--data-->\\n\\t\\t\\t<div class=\"item clearfix\"><!-- item -->\\n\\t\\t\\t\\t                <div class=\"Img\">\\n                    <a href=\"ins.php?index_id=423\"  title=\"Dexerials Taiwan Corporation\"><img src=\"../../tw/upload/fac_manufacturers_list_pic/5d11f039315726d2e1c895bf1e0b9749.jpg\" alt=\"Dexerials Taiwan Corporation\"></a>\\n                </div>\\n                                <div class=\"Txt b-box\"><!--Txt-->\\n                    <h3><strong><a href=\"ins.php?index_id=423\"  title=\"Dexerials Taiwan Corporation\">Dexerials Taiwan Corporation</a></strong></h3>\\n                    <p>台灣迪睿合股份有限公司</p>\\n                </div><!--Txt end-->\\n            </div><!-- item end -->\\n\\t\\t\\t        </li><!--data-->\\n\\t\\t\\t<li class=\"clearfix\"><!--data-->\\n\\t\\t\\t<div class=\"item clearfix\"><!-- item -->\\n\\t\\t\\t\\t                <div class=\"Img\">\\n                    <a href=\"ins.php?index_id=464\"  title=\"EGIS\"><img src=\"../../tw/upload/fac_manufacturers_list_pic/d0d1007ecc07aa41fc5f2acd0bf853c5.png\" alt=\"EGIS\"></a>\\n                </div>\\n                                <div class=\"Txt b-box\"><!--Txt-->\\n                    <h3><strong><a href=\"ins.php?index_id=464\"  title=\"EGIS\">EGIS</a></strong></h3>\\n                    <p>神盾股份有限公司</p>\\n                </div><!--Txt end-->\\n            </div><!-- item end -->\\n\\t\\t\\t        </li><!--data-->\\n\\t\\t\\t<li class=\"clearfix\"><!--data-->\\n\\t\\t\\t<div class=\"item clearfix\"><!-- item -->\\n\\t\\t\\t\\t                <div class=\"Img\">\\n                    <a href=\"ins.php?index_id=283\"  title=\"ELATEC\"><img src=\"../../tw/upload/fac_manufacturers_list_pic/df0109f020e0b1ea943012558263302a.png\" alt=\"ELATEC\"></a>\\n                </div>\\n                                <div class=\"Txt b-box\"><!--Txt-->\\n                    <h3><strong><a href=\"ins.php?index_id=283\"  title=\"ELATEC\">ELATEC</a></strong></h3>\\n                    <p>ELATEC</p>\\n                </div><!--Txt end-->\\n            </div><!-- item end -->\\n\\t\\t\\t        </li><!--data-->\\n\\t\\t\\t<li class=\"clearfix\"><!--data-->\\n\\t\\t\\t<div class=\"item clearfix\"><!-- item -->\\n\\t\\t\\t\\t                <div class=\"Img\">\\n                    <a href=\"ins.php?index_id=146\"  title=\"Eleven Engineering Inc.\"><img src=\"../../tw/upload/fac_manufacturers_list_pic/1599cda8a24c540d1e3b56e7eefbc54e.jpg\" alt=\"Eleven Engineering Inc.\"></a>\\n                </div>\\n                                <div class=\"Txt b-box\"><!--Txt-->\\n                    <h3><strong><a href=\"ins.php?index_id=146\"  title=\"Eleven Engineering Inc.\">Eleven Engineering Inc.</a></strong></h3>\\n                    <p>Eleven Engineering Inc.</p>\\n                </div><!--Txt end-->\\n            </div><!-- item end -->\\n\\t\\t\\t        </li><!--data-->\\n\\t\\t\\t<li class=\"clearfix\"><!--data-->\\n\\t\\t\\t<div class=\"item clearfix\"><!-- item -->\\n\\t\\t\\t\\t                <div class=\"Img\">\\n                    <a href=\"ins.php?index_id=455\"  title=\"Elevoc\"><img src=\"../../tw/upload/fac_manufacturers_list_pic/0ad2da64ed18d202cde1d2747967d709.jpg\" alt=\"Elevoc\"></a>\\n                </div>\\n                                <div class=\"Txt b-box\"><!--Txt-->\\n                    <h3><strong><a href=\"ins.php?index_id=455\"  title=\"Elevoc\">Elevoc</a></strong></h3>\\n                    <p>大象聲科</p>\\n                </div><!--Txt end-->\\n            </div><!-- item end -->\\n\\t\\t\\t        </li><!--data-->\\n\\t\\t\\t<li class=\"clearfix\"><!--data-->\\n\\t\\t\\t<div class=\"item clearfix\"><!-- item -->\\n\\t\\t\\t\\t                <div class=\"Img\">\\n                    <a href=\"ins.php?index_id=449\"  title=\"Enovix\"><img src=\"../../tw/upload/fac_manufacturers_list_pic/9f988d0527b9096a206beb1a4abecd65.png\" alt=\"Enovix\"></a>\\n                </div>\\n                                <div class=\"Txt b-box\"><!--Txt-->\\n                    <h3><strong><a href=\"ins.php?index_id=449\"  title=\"Enovix\">Enovix</a></strong></h3>\\n                    <p></p>\\n                </div><!--Txt end-->\\n            </div><!-- item end -->\\n\\t\\t\\t        </li><!--data-->\\n\\t\\t\\t<li class=\"clearfix\"><!--data-->\\n\\t\\t\\t<div class=\"item clearfix\"><!-- item -->\\n\\t\\t\\t\\t                <div class=\"Img\">\\n                    <a href=\"ins.php?index_id=170\"  title=\"FocalTech\"><img src=\"../../tw/upload/fac_manufacturers_list_pic/54986a635de7f61cfa4d5b482e5c319a.jpg\" alt=\"FocalTech\"></a>\\n                </div>\\n                                <div class=\"Txt b-box\"><!--Txt-->\\n                    <h3><strong><a href=\"ins.php?index_id=170\"  title=\"FocalTech\">FocalTech</a></strong></h3>\\n                    <p>敦泰電子股份有限公司</p>\\n                </div><!--Txt end-->\\n            </div><!-- item end -->\\n\\t\\t\\t        </li><!--data-->\\n\\t\\t\\t<li class=\"clearfix\"><!--data-->\\n\\t\\t\\t<div class=\"item clearfix\"><!-- item -->\\n\\t\\t\\t\\t                <div class=\"Img\">\\n                    <a href=\"ins.php?index_id=408\"  title=\"FRAMOS\\xa0\"><img src=\"../../tw/upload/fac_manufacturers_list_pic/bb8628057624792b0d77283a4b2c075a.jpg\" alt=\"FRAMOS\\xa0\"></a>\\n                </div>\\n                                <div class=\"Txt b-box\"><!--Txt-->\\n                    <h3><strong><a href=\"ins.php?index_id=408\"  title=\"FRAMOS\\xa0\">FRAMOS\\xa0</a></strong></h3>\\n                    <p></p>\\n                </div><!--Txt end-->\\n            </div><!-- item end -->\\n\\t\\t\\t        </li><!--data-->\\n\\t\\t\\t<li class=\"clearfix\"><!--data-->\\n\\t\\t\\t<div class=\"item clearfix\"><!-- item -->\\n\\t\\t\\t\\t                <div class=\"Img\">\\n                    <a href=\"ins.php?index_id=150\"  title=\"GCT\"><img src=\"../../tw/upload/fac_manufacturers_list_pic/ce6a8f88465f96e058a2ef805ed89f94.jpg\" alt=\"GCT\"></a>\\n                </div>\\n                                <div class=\"Txt b-box\"><!--Txt-->\\n                    <h3><strong><a href=\"ins.php?index_id=150\"  title=\"GCT\">GCT</a></strong></h3>\\n                    <p>GCT</p>\\n                </div><!--Txt end-->\\n            </div><!-- item end -->\\n\\t\\t\\t        </li><!--data-->\\n\\t\\t\\t<li class=\"clearfix\"><!--data-->\\n\\t\\t\\t<div class=\"item clearfix\"><!-- item -->\\n\\t\\t\\t\\t                <div class=\"Img\">\\n                    <a href=\"ins.php?index_id=261\"  title=\"GigaDevice\"><img src=\"../../tw/upload/fac_manufacturers_list_pic/a58069e15d79788319db89f38ab04f2d.png\" alt=\"GigaDevice\"></a>\\n                </div>\\n                                <div class=\"Txt b-box\"><!--Txt-->\\n                    <h3><strong><a href=\"ins.php?index_id=261\"  title=\"GigaDevice\">GigaDevice</a></strong></h3>\\n                    <p>北京兆易創新科技股份有限公司</p>\\n                </div><!--Txt end-->\\n            </div><!-- item end -->\\n\\t\\t\\t        </li><!--data-->\\n\\t\\t\\t<li class=\"clearfix\"><!--data-->\\n\\t\\t\\t<div class=\"item clearfix\"><!-- item -->\\n\\t\\t\\t\\t                <div class=\"Img\">\\n                    <a href=\"ins.php?index_id=144\"  title=\"GP\"><img src=\"../../tw/upload/fac_manufacturers_list_pic/ffc27a0ee9d826eea3878fef84d29116.png\" alt=\"GP\"></a>\\n                </div>\\n                                <div class=\"Txt b-box\"><!--Txt-->\\n                    <h3><strong><a href=\"ins.php?index_id=144\"  title=\"GP\">GP</a></strong></h3>\\n                    <p>金山電池國際有限公司</p>\\n                </div><!--Txt end-->\\n            </div><!-- item end -->\\n\\t\\t\\t        </li><!--data-->\\n\\t\\t\\t<li class=\"clearfix\"><!--data-->\\n\\t\\t\\t<div class=\"item clearfix\"><!-- item -->\\n\\t\\t\\t\\t                <div class=\"Img\">\\n                    <a href=\"ins.php?index_id=429\"  title=\"GRAID Technology Inc.\"><img src=\"../../tw/upload/fac_manufacturers_list_pic/6c6e55131112bfc3745fb5561841b77d.jpg\" alt=\"GRAID Technology Inc.\"></a>\\n                </div>\\n                                <div class=\"Txt b-box\"><!--Txt-->\\n                    <h3><strong><a href=\"ins.php?index_id=429\"  title=\"GRAID Technology Inc.\">GRAID Technology Inc.</a></strong></h3>\\n                    <p>圖睿科技有限公司</p>\\n                </div><!--Txt end-->\\n            </div><!-- item end -->\\n\\t\\t\\t        </li><!--data-->\\n\\t\\t\\t<li class=\"clearfix\"><!--data-->\\n\\t\\t\\t<div class=\"item clearfix\"><!-- item -->\\n\\t\\t\\t\\t                <div class=\"Img\">\\n                    <a href=\"ins.php?index_id=178\"  title=\"Hannstar\"><img src=\"../../tw/upload/fac_manufacturers_list_pic/de35909909e0ab02efaab46aeba44a45.jpg\" alt=\"Hannstar\"></a>\\n                </div>\\n                                <div class=\"Txt b-box\"><!--Txt-->\\n                    <h3><strong><a href=\"ins.php?index_id=178\"  title=\"Hannstar\">Hannstar</a></strong></h3>\\n                    <p>瀚宇彩晶</p>\\n                </div><!--Txt end-->\\n            </div><!-- item end -->\\n\\t\\t\\t        </li><!--data-->\\n\\t\\t\\t<li class=\"clearfix\"><!--data-->\\n\\t\\t\\t<div class=\"item clearfix\"><!-- item -->\\n\\t\\t\\t\\t                <div class=\"Img\">\\n                    <a href=\"ins.php?index_id=186\"  title=\"Impinj\"><img src=\"../../tw/upload/fac_manufacturers_list_pic/9492793b3407b6c3c1552b42e870ef8f.jpg\" alt=\"Impinj\"></a>\\n                </div>\\n                                <div class=\"Txt b-box\"><!--Txt-->\\n                    <h3><strong><a href=\"ins.php?index_id=186\"  title=\"Impinj\">Impinj</a></strong></h3>\\n                    <p>Impinj</p>\\n                </div><!--Txt end-->\\n            </div><!-- item end -->\\n\\t\\t\\t        </li><!--data-->\\n\\t\\t\\t<li class=\"clearfix\"><!--data-->\\n\\t\\t\\t<div class=\"item clearfix\"><!-- item -->\\n\\t\\t\\t\\t                <div class=\"Img\">\\n                    <a href=\"ins.php?index_id=392\"  title=\"Injoinic\"><img src=\"../../tw/upload/fac_manufacturers_list_pic/e70da8ff552c726bb571b1e84ffe7067.png\" alt=\"Injoinic\"></a>\\n                </div>\\n                                <div class=\"Txt b-box\"><!--Txt-->\\n                    <h3><strong><a href=\"ins.php?index_id=392\"  title=\"Injoinic\">Injoinic</a></strong></h3>\\n                    <p>英集芯科技</p>\\n                </div><!--Txt end-->\\n            </div><!-- item end -->\\n\\t\\t\\t        </li><!--data-->\\n\\t\\t\\t<li class=\"clearfix\"><!--data-->\\n\\t\\t\\t<div class=\"item clearfix\"><!-- item -->\\n\\t\\t\\t\\t                <div class=\"Img\">\\n                    <a href=\"ins.php?index_id=188\"  title=\"Innolux\"><img src=\"../../tw/upload/fac_manufacturers_list_pic/df06ce1c360fe072ce6ac84cba61fc62.jpg\" alt=\"Innolux\"></a>\\n                </div>\\n                                <div class=\"Txt b-box\"><!--Txt-->\\n                    <h3><strong><a href=\"ins.php?index_id=188\"  title=\"Innolux\">Innolux</a></strong></h3>\\n                    <p>群創光電股份有限公司</p>\\n                </div><!--Txt end-->\\n            </div><!-- item end -->\\n\\t\\t\\t        </li><!--data-->\\n\\t\\t\\t<li class=\"clearfix\"><!--data-->\\n\\t\\t\\t<div class=\"item clearfix\"><!-- item -->\\n\\t\\t\\t\\t                <div class=\"Img\">\\n                    <a href=\"ins.php?index_id=435\"  title=\"Innoviz\"><img src=\"../../tw/upload/fac_manufacturers_list_pic/49e30ff9a1ca2b2e1e99ac3b1842a254.jpg\" alt=\"Innoviz\"></a>\\n                </div>\\n                                <div class=\"Txt b-box\"><!--Txt-->\\n                    <h3><strong><a href=\"ins.php?index_id=435\"  title=\"Innoviz\">Innoviz</a></strong></h3>\\n                    <p></p>\\n                </div><!--Txt end-->\\n            </div><!-- item end -->\\n\\t\\t\\t        </li><!--data-->\\n\\t\\t\\t<li class=\"clearfix\"><!--data-->\\n\\t\\t\\t<div class=\"item clearfix\"><!-- item -->\\n\\t\\t\\t\\t                <div class=\"Img\">\\n                    <a href=\"ins.php?index_id=467\"  title=\"iSentek\"><img src=\"../../tw/upload/fac_manufacturers_list_pic/7c3145f5b94005c348502017e73eba45.png\" alt=\"iSentek\"></a>\\n                </div>\\n                                <div class=\"Txt b-box\"><!--Txt-->\\n                    <h3><strong><a href=\"ins.php?index_id=467\"  title=\"iSentek\">iSentek</a></strong></h3>\\n                    <p>愛盛科技股份有限公司</p>\\n                </div><!--Txt end-->\\n            </div><!-- item end -->\\n\\t\\t\\t        </li><!--data-->\\n\\t\\t\\t<li class=\"clearfix\"><!--data-->\\n\\t\\t\\t<div class=\"item clearfix\"><!-- item -->\\n\\t\\t\\t\\t                <div class=\"Img\">\\n                    <a href=\"ins.php?index_id=452\"  title=\"ITE Tech. Inc.\"><img src=\"../../tw/upload/fac_manufacturers_list_pic/f9d3d4060661d76443d96a6e03cc1bf1.jpg\" alt=\"ITE Tech. Inc.\"></a>\\n                </div>\\n                                <div class=\"Txt b-box\"><!--Txt-->\\n                    <h3><strong><a href=\"ins.php?index_id=452\"  title=\"ITE Tech. Inc.\">ITE Tech. Inc.</a></strong></h3>\\n                    <p>聯陽半導體股份有限公司</p>\\n                </div><!--Txt end-->\\n            </div><!-- item end -->\\n\\t\\t\\t        </li><!--data-->\\n\\t  \\n</ul><!--facList end-->\\n<div class=\"pageBox\"><!--pageBox-->\\n\\t<!-- <a href=\"/tw//manufacturers/index.php?page=1\" class=\"btn\"><i class=\"fa fa-caret-left\" aria-hidden=\"true\"></i></a> -->\\n\\t<!-- <a href=\"/tw//manufacturers/index.php?page=1\" class=\"end\">第一頁</a> -->\\n\\n<a href=\"/tw//manufacturers/index.php?page=1\" class=\"btn\" data-page=\\'1\\'><i class=\"fa fa-angle-left\" aria-hidden=\"true\"></i></a>\\n\\n\\n<a href=\"?page=1\" title=\"第1頁\" class=\"num\" data-page=\\'1\\'>1</a>\\n <a  title=\"第2頁\" class=\"num current\">2</a> <a href=\"?page=3\" title=\"第3頁\" class=\"num\" data-page=\\'3\\'>3</a>\\n <a href=\"?page=4\" title=\"第4頁\" class=\"num\" data-page=\\'4\\'>4</a>\\n <a href=\"?page=5\" title=\"第5頁\" class=\"num\" data-page=\\'5\\'>5</a>\\n <a href=\"?page=6\" title=\"第6頁\" class=\"num\" data-page=\\'6\\'>6</a>\\n\\n <!-- <a href=\"/tw//manufacturers/index.php?page=6\" class=\"end\">...6</a> -->\\n\\n\\t<!-- <a href=\"/tw//manufacturers/index.php?page=3\" class=\"btn\"><i class=\"fa fa-caret-right\" aria-hidden=\"true\"></i></a> -->\\n<a href=\"/tw//manufacturers/index.php?page=3\" class=\"btn\" data-page=\\'3\\'><i class=\"fa fa-angle-right\" aria-hidden=\"true\"></i></a>\\n</div><!--pageBox end-->            </div><!--contentBox end-->\\n    \\t</div><!--wrap end-->\\n    </div><!--mainArea end-->\\n    <script language=\"javascript\">\\nfunction counter_number(data){\\n\\tif(data.value.match(/[^0-9]/g)){\\n\\t\\talert(\\'域值必须为数字!!\\');\\n\\t\\tdata.value=\\'1\\';\\n\\t\\tdata.focus();\\n\\t}else if(data.value==\\'0\\'){\\n\\t\\talert(\\'域值必须为大于0!!\\');\\n\\t\\tdata.value=\\'1\\';\\n\\t\\tdata.focus();\\n\\t}\\n}\\n</script>\\n<div class=\"newsletterArea noImg\" style=\"display: none;\">\\n\\t<div class=\"inner\">\\n        <a href=\"javascript:;\" class=\"newsletterClose\"></a>\\n        <div class=\"Img\"></div>\\n        <div class=\"bottom\">\\n            <div class=\"text\"><div style=\"text-align: center;\">訂閱電子報，掌握最新科技與產業趨勢</div></div>\\n            <form method=\"post\" name=\"newsletterForm\" enctype=\"multipart/form-data\" id=\"newsletterForm\">\\n                <ul class=\"form\">\\n                    <li class=\"full\">\\n                        <div class=\"item\">\\n                            <div class=\"left\">公司名稱</div>\\n                            <div class=\"right\"><input type=\"text\" id=\"data_company_letter\" name=\"data_company\" data-note=\"公司名稱\"></div>\\n                        </div>\\n                    </li>\\n                    <li>\\n                        <div class=\"item\">\\n                            <div class=\"left\"><em>*</em>姓名</div>\\n                            <div class=\"right\"><input type=\"text\" id=\"data_name_letter\" name=\"data_name\" data-note=\"姓名\" class=\"requireLetter\"></div>\\n                        </div>\\n                    </li>\\n                    <li>\\n                        <div class=\"item\">\\n                            <div class=\"left\">電話</div>\\n                            <div class=\"right\"><input type=\"text\" id=\"data_tel_letter\" name=\"data_tel\" data-note=\"電話\"></div>\\n                        </div>\\n                    </li>\\n                    <li>\\n                        <div class=\"item\">\\n                            <div class=\"left\"><em>*</em>E-mail</div>\\n                            <div class=\"right\"><input type=\"text\" id=\"data_email_letter\" name=\"data_email\" data-note=\"E-mail\" class=\"requireLetter\"></div>\\n                        </div>\\n                    </li>\\n                    <li class=\"full\">\\n                        <div class=\"item center noborder\">\\n    \\t\\t\\t\\t\\t\\t\\t\\t\\t<div class=\"sliderBox clearfix\">\\n\\t\\t\\t\\t\\t\\t\\t\\t\\t\\t   <div class=\"moveLock\"></div>\\n\\t\\t\\t\\t\\t\\t\\t\\t\\t\\t   <p class=\"note\">請向右滑動解鎖</p>\\n\\t\\t\\t\\t\\t\\t\\t\\t\\t\\t</div>\\t\\t\\t\\t\\t\\t\\n                            <a class=\"subscription\" id=\"submit_btn_letter\" onClick=\"senddataLetter()\">送出</a><i id=\"submit_loading_icon_newsletter\" class=\"fa fa-spinner fa-spin\" style=\"display:none\"></i>\\n                        </div>\\n                    </li>\\n                </ul>\\n                <input type=\"hidden\" name=\"act\" id=\"act_letter\" value=\"3\">\\n            </form>\\n        </div>\\n\\t </div>\\n</div>\\n\\n<div class=\"newsletterFooter\">\\n訂閱電子報，掌握最新科技與產業趨勢 <a class=\"openNewsLetter\" href=\"javascript:;\">我要訂閱</a></div>\\n\\n<a href=\"javascript:;\" class=\"openNewsLetter fixdNewsLetterBtn\">\\n    <i class=\"fa fa-newspaper-o\" aria-hidden=\"true\"></i>\\n    <span>訂閱電子報</span>\\n</a>\\n\\n<script>\\n    $(function() {\\n        $(\\'.newsletterClose\\').click(function() {\\n            $(\\'.newsletterArea\\').fadeOut();\\n\\t\\t\\t    $(\\'body\\').css(\\'overflow\\', \\'auto\\');\\n        })\\n        $(\\'.openNewsLetter\\').click(function() {\\n            $(\\'.newsletterArea\\').fadeIn();\\n\\t\\t\\t    $(\\'body\\').css(\\'overflow\\', \\'hidden\\');\\n        })\\n\\t\\t\\n\\t\\t  let newsletterOpen = 1;\\n\\t\\t  if(newsletterOpen) {\\n\\t\\t  \\t\\t$(\\'.fixdNewsLetterBtn\\').addClass(\\'show\\');\\n\\t\\t\\t   $(\\'.fMenu .openNewsLetter\\').parent().show();\\n\\t\\t  }\\n    })\\n</script>\\n\\n\\n\\n<script language=\"javascript\">\\nfunction wirte_iframe(){\\n\\t$(\\'#iframe_string\\').html(\"<iframe height=\\'0\\' name=\\'rundata_action\\' frameborder=\\'0\\' scrolling=\\'no\\' width=\\'0\\' style=\\'display:none\\' src=\\'../database/function/ok_html.php\\' title=\\'程式資料處理的位置\\'></iframe>\");\\n}\\n</script>\\n<span id=\"iframe_string\"></span>\\n<div id=\"waiting\" style=\"position:absolute; left:0px; top:200px; width:100%; height:80px; z-index:999999;  display: none;\">\\n  <table width=\"100%\" border=\"0\" cellspacing=\"0\" cellpadding=\"0\">\\n    <tr>\\n      <td align=\"center\"><img src=\"../database/function/wait.gif\" width=\"300\" height=\"80\" /></td>\\n    </tr>\\n  </table>\\n</div>\\n<div id=\"waiting_type\" style=\"display: none;\" onClick=\"close_layer_detail()\">\\n<img src=\"../database/function/wait.gif\" width=\"300\" height=\"80\" />\\n</div>\\n\\n<script type=\"text/javascript\">\\nfunction senddataLetter(){//必填验证\\n\\tvar error=0;\\n\\tvar msg=\\'\\';\\n\\t$(\\'#newsletterForm .requireLetter\\').removeClass(\\'error\\');\\n\\t$(\\'#newsletterForm .requireLetter\\').each(function(){\\n\\t\\tif($(this).val()==\"\"){\\n\\t\\t\\t$(this).addClass(\\'error\\');\\n\\t\\t\\tmsg += \\'※\\' + $(this).data(\\'note\\') + \\'欄位必填\\' + \\'\\\\n\\';\\n\\t\\t\\terror = 1;\\n\\t\\t}\\n\\t});\\n\\tif(! isEmail($(\\'#newsletterForm #data_email_letter\\').val())){\\n\\t\\t$(\\'#newsletterForm #data_email_letter\\').addClass(\\'error\\');\\n\\t\\tmsg += \\'※\\' + \\'email格式錯誤\\';\\n\\t\\terror = 1;\\n\\t}\\n\\tif(error==1){\\n\\t\\talert(msg);\\n\\t\\treturn false;\\n\\t}\\n\\t$(\\'#submit_loading_icon_newsletter\\').show();\\n\\t$(\\'#newsletterForm #submit_btn_letter\\').hide();\\n\\t//$(this).html(\\'<i class=\"fa fa-spinner fa-spin\" />\\');\\n\\twirte_iframe();\\n\\t$(\\'#newsletterForm\\').prop(\\'target\\',\\'rundata_action\\');\\n\\t$(\\'#newsletterForm\\').prop(\\'action\\',\\'../act.php\\');\\n\\t$(\\'#newsletterForm\\').submit();\\n}\\n</script>\\n<!--QapTcha-->\\n<script type=\"text/javascript\" src=\"https://www.edomtech.com/tw/lib/jqueryui/jquery-ui.min.js\"></script>\\n<script type=\"text/javascript\" src=\"https://www.edomtech.com/tw/lib/Qaptcha/jquery.ui.touch2.js\"></script>\\n<script type=\"text/javascript\" src=\"https://www.edomtech.com/tw/lib/Qaptcha/QapTcha.jquery.js\"></script>\\n<script type=\"text/javascript\">\\n  $(document).ready(function(){\\n\\t$(\\'.moveLock\\').QapTcha({\\n\\t\\t\\tdisabledSubmit:true,\\n\\t\\t\\tautoRevert:true,\\n\\t\\t\\tautoSubmit:false,\\n\\t\\t\\tPHPfile : \\'../database/function/randnumber.php\\'\\n\\t\\t});\\n  });\\n</script>\\n\\n\\n\\t<!--footer-->\\n    <footer class=\"clearfix\"><!--footer-->\\n        <div class=\"wrap b-box clearfix\"><!--wrap-->\\n            <div class=\"social\">\\n                <ul>\\n                    <li>\\n                        <a href=\"../inquiry/\" class=\"mail\">\\n                            <i class=\"fa fa-envelope\" aria-hidden=\"true\"></i>\\n                        </a>\\n                    </li>\\n                    <li>\\n                        <a href=\"https://zh-tw.facebook.com/EDOMTechnology/\" target=\"_blank\" class=\"fb\">\\n                            <i class=\"fa fa-facebook\" aria-hidden=\"true\"></i>\\n                        </a>\\n                    </li>\\n                    <li>\\n                        <a href=\"https://www.linkedin.com/company/edom-technology\" target=\"_blank\" class=\"linkedin\">\\n                            <i class=\"fa fa-linkedin\" aria-hidden=\"true\"></i>\\n                        </a>\\n                    </li>\\n                                        <li>\\n                        <a href=\"//www.edom.com.tw/upload/download_files/23c0befab409c40e94f8a652adc02f4b.jpg\" data-fancybox class=\"weixin\">\\n                            <i class=\"fa fa-weixin\" aria-hidden=\"true\"></i>\\n                        </a>\\n                    </li>\\n                                        <li>\\n                        <a href=\"../member/\" class=\"user\">\\n                            <i class=\"fa fa-user\" aria-hidden=\"true\"></i>\\n                        </a>\\n                    </li>\\n                </ul>\\n                <!-- <em>聯絡益登得到完整服務</em> -->\\n            </div>\\n            <div class=\"footerLink\"><!-- footerLink -->\\n                <ul>\\n                    <li>\\n                        <div class=\"item\"><!-- item -->\\n                            <h3>關於益登</h3>\\n                            <div class=\"inner\">\\n                                <a href=\"../about/\">關於益登</a>\\n                                <a href=\"../achievements/\">獲獎紀錄</a>\\n                                <a href=\"../csr/\">企業社會責任</a>\\n                                <a href=\"../join/\">人才招募</a>\\n                                <a href=\"../privacy/\">法律聲明</a>\\n                            </div>\\n                        </div><!-- item end -->\\n                    </li>\\n                    <li>\\n                        <div class=\"item\"><!-- item -->\\n                            <h3>投資人關係</h3>\\n                            <div class=\"inner\">\\n                                <a href=\"../investor/\">投資人關係</a>\\n                                <a href=\"../report/\">財報下載</a>\\n                                <a href=\"../financial_news/\">財務新聞</a>\\n                                <a href=\"http://mops.twse.com.tw/mops/web/index\" target=\"_blank\">公開資訊觀測站</a>\\n                            </div>\\n                        </div><!-- item end -->\\n                    </li>\\n                    <li>\\n                        <div class=\"item\"><!-- item -->\\n                            <h3>產品資源</h3>\\n                            <div class=\"inner\">\\n                                <a href=\"../product/\">產品類別</a>\\n                                <a href=\"../solution/\">解決方案</a>\\n                                <a href=\"../manufacturers/\">製造商</a>\\n                                <a href=\"../download/\">檔案下載</a>\\n                                <a href=\"../article/\">技術文章</a>\\n                            </div>\\n                        </div><!-- item end -->\\n                    </li>\\n                    <li>\\n                        <div class=\"item\"><!-- item -->\\n                            <h3>新聞訊息</h3>\\n                            <div class=\"inner\">\\n                                             \\n                <a href=\"../news/index.php?index_m_id=4\"  id=\"class_current_4\">益登新聞</a>\\n                <a href=\"../news/index.php?index_m_id=5\"  id=\"class_current_5\">廠商動態</a>\\n                <a href=\"../news/index.php?index_m_id=6\"  id=\"class_current_6\">產品新聞</a>\\n                                                    <a href=\"../newsletter/\">電子報</a>\\n                                     </div>\\n                        </div><!-- item end -->\\n                    </li>\\n                    <li>\\n                        <div class=\"item\"><!-- item -->\\n                            <h3>活動訊息</h3>\\n                            <div class=\"inner\"><a href=\"../events/index.php\">所有活動</a>\\r\\n<a href=\"../events/?type=coming\">近期活動</a></div>\\n                        </div><!-- item end -->\\n                    </li>\\n                    <li>\\n                        <div class=\"item\"><!-- item -->\\n                            <h3>聯絡我們</h3>\\n                            <div class=\"inner\">\\n                                <a href=\"../offices/\">全球據點</a>\\n                                <a href=\"mailto:sales@edom-tech.com\">聯絡我們</a>\\n                                <span id=\"login_script_code\" style=\"display:none\"></span>\\n                                                                    <a class=\"loginToggle\">會員專區</a>\\n                                                            </div>\\n                        </div><!-- item end -->\\n                    </li>\\n                </ul>\\n            </div><!-- footerLink end -->\\n        </div><!--wrap end-->        \\n    </footer><!--footer end-->\\n    <div class=\"endArea\"><!--endArea-->\\n        <div class=\"wrap b-box clearfix\"><!--wrap-->\\n            © 2018 EDOM Technology. All Rights Reserved.\\n            <div class=\"social_ins\"><!--social_ins-->\\r\\n        <h4>Share:</h4>\\r\\n        <a class=\"fb\" href=\"javascript: void(window.open(\\'http://www.facebook.com/share.php?u=\\'.concat(encodeURIComponent(location.href)) ));\"><i class=\"fa fa-facebook\"></i></a>\\r\\n<!--         <div id=\"ckepop\">\\r\\n        <a class=\"jiathis_button_weixin weChat\"><i class=\"fa fa-weixin\" aria-hidden=\"true\"></i></i></a>\\r\\n        <script type=\"text/javascript\" src=\"http://v3.jiathis.com/code/jia.js?uid=1\" charset=\"utf-8\"></script>\\r\\n        </div> -->\\r\\n        <a class=\"gPlus\" href=\"javascript: void(window.open(\\'https://plus.google.com/share?url=\\'.concat(encodeURIComponent(location.href))));\" target=\"_blank\"><i class=\"fa fa-google-plus\"></i></a>\\r\\n        <a class=\"line\" href=\"http://line.naver.jp/R/msg/text/?ITE Tech. Inc. http://www.edomtech.com/tw//manufacturers/index.php?page=2\">\\r\\n            <i>\\r\\n                <svg version=\"1.1\" id=\"&#x5716;&#x5C64;_1\" xmlns=\"http://www.w3.org/2000/svg\" xmlns:xlink=\"http://www.w3.org/1999/xlink\" x=\"0px\"\\r\\n                    y=\"0px\" viewBox=\"0 0 183.433 173.511\" style=\"enable-background:new 0 0 183.433 173.511;\"\\r\\n                    xml:space=\"preserve\">\\r\\n                    <path d=\"M183.386,70.704c-0.289-7.491-1.932-14.663-4.937-21.514c-6.256-14.268-16.528-25.032-29.549-33.255\\r\\n                    C131.479,4.932,112.285,0.115,89.979,0c-2.006,0.124-5.82,0.281-9.619,0.606C70.566,1.442,61.08,3.673,51.921,7.219\\r\\n                    c-15.101,5.846-28.187,14.56-38.25,27.425C5.831,44.666,1.049,55.975,0.154,68.728C-0.775,82.01,2.507,94.3,9.613,105.544\\r\\n                    c8.252,13.058,19.762,22.445,33.436,29.319c11.559,5.811,23.861,9.089,36.684,10.539c2.479,0.28,4.229,2.276,4.166,4.766\\r\\n                    c-0.037,1.442-0.242,2.881-0.399,4.319c-0.479,4.4-0.935,8.804-1.468,13.199c-0.539,4.442,3.966,7.116,7.854,5.193\\r\\n                    c13.784-6.816,27.194-14.253,39.832-23.035c8.887-6.174,17.255-12.979,24.989-20.56c6.584-6.455,12.108-13.753,17.366-21.295\\r\\n                    C179.898,96.765,183.916,84.446,183.386,70.704z M59.079,95.217c-0.9,1.201-2.151,1.811-3.63,1.817\\r\\n                    c-6.274,0.025-12.549,0.044-18.824-0.005c-2.623-0.021-4.506-2.028-4.512-4.663c-0.015-5.924-0.004-11.848-0.004-17.772\\r\\n                    c0-5.88-0.015-11.76,0.008-17.639c0.008-2.359,1.678-4.124,4.154-4.498c1.938-0.292,4.149,1.142,4.756,3.166\\r\\n                    c0.184,0.614,0.196,1.294,0.197,1.944c0.012,9.478,0.008,18.956,0.008,28.434c0,1.845,0.004,1.849,1.9,1.851\\r\\n                    c4.081,0.005,8.162-0.001,12.242,0.008c1.941,0.004,3.421,0.871,4.203,2.629C60.296,92.103,60.178,93.75,59.079,95.217z\\r\\n                    M73.857,74.81c0,6.015,0.002,12.031-0.002,18.046c0,2.802-1.396,4.201-4.217,4.178c-0.867-0.007-1.768-0.024-2.594-0.253\\r\\n                    c-1.339-0.371-2.143-1.354-2.297-2.748c-0.102-0.912-0.079-1.84-0.08-2.761c-0.004-11.372-0.004-22.744-0.002-34.116\\r\\n                    c0.001-4.128,3.546-6.211,7.265-4.262c1.392,0.73,1.931,1.947,1.931,3.475C73.854,62.516,73.857,68.663,73.857,74.81z\\r\\n                    M117.352,91.996c0,2.34-1.193,4.135-3.168,4.791c-2.013,0.668-3.756,0.049-5.27-1.907c-5.829-7.529-11.651-15.063-17.477-22.595\\r\\n                    c-0.285-0.367-0.586-0.72-1.146-1.408c-0.038,0.85-0.076,1.303-0.076,1.755c-0.005,6.629,0.01,13.257-0.012,19.885\\r\\n                    c-0.008,2.318-1.668,4.138-4.004,4.502c-2.062,0.321-4.238-1.051-4.897-3.147c-0.166-0.529-0.205-1.117-0.206-1.678\\r\\n                    c-0.011-11.589-0.012-23.178-0.005-34.766c0.002-2.299,1.197-4.104,3.077-4.724c2.045-0.674,3.902-0.018,5.4,1.931\\r\\n                    c5.804,7.549,11.603,15.101,17.405,22.65c0.283,0.367,0.496,0.715,0.793,1.071c0.122-0.05,0.272-0.101,0.272-0.151V76.66\\r\\n                    c0-6.496,0.082-12.993,0.105-19.49c0.01-2.453,1.391-4.067,3.733-4.601c2.692-0.614,5.415,1.475,5.44,4.266\\r\\n                    c0.039,3.95,0.035,7.901,0.035,11.852C117.354,76.457,117.355,84.226,117.352,91.996z M133.699,63.151\\r\\n                    c0.1,1.751,0.023,3.512,0.025,5.269c0.004,1.769,0.006,1.775,1.846,1.777c4.084,0.004,8.168-0.023,12.252,0.011\\r\\n                    c3.113,0.025,5.027,2.303,4.594,5.376c-0.311,2.203-2.268,3.781-4.816,3.799c-4.128,0.027-8.257,0.061-12.384-0.024\\r\\n                    c-1.282-0.027-1.562,0.435-1.511,1.585c0.076,1.754,0.091,3.517-0.004,5.268c-0.068,1.251,0.322,1.688,1.613,1.667\\r\\n                    c4.127-0.07,8.256-0.054,12.383-0.014c3.187,0.03,5.098,2.204,4.729,5.276c-0.262,2.181-2.11,3.875-4.44,3.89\\r\\n                    c-6.28,0.039-12.561,0.045-18.84-0.001c-2.621-0.02-4.531-2.022-4.539-4.65c-0.021-5.885-0.006-11.77-0.006-17.655\\r\\n                    c-0.002-5.753-0.006-11.506,0-17.26c0.004-3.1,1.877-5.029,4.98-5.042c6.017-0.027,12.033-0.024,18.05,0\\r\\n                    c2.351,0.01,4.292,1.463,4.741,3.438c0.499,2.192-0.364,4.318-2.303,5.237c-0.756,0.359-1.686,0.477-2.539,0.487\\r\\n                    c-4.084,0.048-8.168,0.055-12.252,0.002C134.104,61.572,133.63,61.907,133.699,63.151z\"/>\\r\\n                </svg>\\r\\n            </i>\\r\\n        </a>\\r\\n        <a class=\"twitter\" href=\"https://twitter.com/share?url=http://www.edomtech.com/tw//manufacturers/index.php?page=2&text=ITE Tech. Inc.-益登科技\" onclick=\"javascript:window.open(this.href, \\'\\', \\'\\');return false;\" target=\"_blank\" title=\"益登科技\"><i class=\"fa fa-twitter\"></i></a>\\r\\n\\r\\n</div><!--social_ins end-->        </div><!--wrap end-->\\n    </div><!--endArea end-->\\n</div><!--outerWrap end-->\\n<div class=\"footerPrivacy\"><!--footerPrivacy-->\\n\\t<div class=\"wrap\">\\n    <div class=\"left\">本網站使用Cookie為您提供最佳的使用體驗。繼續使用本網站，即表示您同意我們的<u><em><a href=\"https://www.edomtech.com/tw/privacy/\">Cookie Policy</a></em></u>。</div>\\r\\n<a class=\"setCookie\" href=\"javascript:;\">接受</a>\\t</div>\\n</div><!--footerPrivacy end-->\\n<script>\\n(function($) {\\n    let getCookie = localStorage.getItem(\\'privacyCookie\\');\\n    if(getCookie == \\'ok\\') {\\n        $(\\'.footerPrivacy\\').remove();\\n    }\\n    $(\\'.footerPrivacy .setCookie\\').click(function() {\\n        localStorage.setItem(\\'privacyCookie\\', \\'ok\\');\\n        $(\\'.footerPrivacy\\').remove();\\n    })\\n})($)\\n</script>\\n<div class=\"fMenu\">\\n    <ul>\\n        <li><a href=\"../product/\">產品介紹</a></li>\\n        <li><a href=\"../solution/\">解決方案</a></li>\\n        <li><a href=\"../manufacturers/\">製造商</a></li>\\n                <li><a href=\"https://store.edomtech.com\" target=\"_blank\">電子商務</a></li>\\n         \\n        <li style=\"display: none;\"><a href=\"javascript:;\" class=\"openNewsLetter\">訂閱電子報</a></li>      \\n        <li><a class=\"goTop\"><i class=\"fa fa-angle-up\" aria-hidden=\"true\"></i></a></li>\\n    </ul>\\n</div>\\n<svg xmlns=\"http://www.w3.org/2000/svg\" width=\"0\" height=\"0\" display=\"none\">\\r\\n\\t<symbol id=\"icon-line\" viewBox=\"0 0 183.433 173.511\">\\r\\n\\t\\t<path d=\"M183.386,70.704c-0.289-7.491-1.932-14.663-4.937-21.514c-6.256-14.268-16.528-25.032-29.549-33.255\\r\\n\\t\\t\\tC131.479,4.932,112.285,0.115,89.979,0c-2.006,0.124-5.82,0.281-9.619,0.606C70.566,1.442,61.08,3.673,51.921,7.219\\r\\n\\t\\t\\tc-15.101,5.846-28.187,14.56-38.25,27.425C5.831,44.666,1.049,55.975,0.154,68.728C-0.775,82.01,2.507,94.3,9.613,105.544\\r\\n\\t\\t\\tc8.252,13.058,19.762,22.445,33.436,29.319c11.559,5.811,23.861,9.089,36.684,10.539c2.479,0.28,4.229,2.276,4.166,4.766\\r\\n\\t\\t\\tc-0.037,1.442-0.242,2.881-0.399,4.319c-0.479,4.4-0.935,8.804-1.468,13.199c-0.539,4.442,3.966,7.116,7.854,5.193\\r\\n\\t\\t\\tc13.784-6.816,27.194-14.253,39.832-23.035c8.887-6.174,17.255-12.979,24.989-20.56c6.584-6.455,12.108-13.753,17.366-21.295\\r\\n\\t\\t\\tC179.898,96.765,183.916,84.446,183.386,70.704z M59.079,95.217c-0.9,1.201-2.151,1.811-3.63,1.817\\r\\n\\t\\t\\tc-6.274,0.025-12.549,0.044-18.824-0.005c-2.623-0.021-4.506-2.028-4.512-4.663c-0.015-5.924-0.004-11.848-0.004-17.772\\r\\n\\t\\t\\tc0-5.88-0.015-11.76,0.008-17.639c0.008-2.359,1.678-4.124,4.154-4.498c1.938-0.292,4.149,1.142,4.756,3.166\\r\\n\\t\\t\\tc0.184,0.614,0.196,1.294,0.197,1.944c0.012,9.478,0.008,18.956,0.008,28.434c0,1.845,0.004,1.849,1.9,1.851\\r\\n\\t\\t\\tc4.081,0.005,8.162-0.001,12.242,0.008c1.941,0.004,3.421,0.871,4.203,2.629C60.296,92.103,60.178,93.75,59.079,95.217z\\r\\n\\t\\t\\t M73.857,74.81c0,6.015,0.002,12.031-0.002,18.046c0,2.802-1.396,4.201-4.217,4.178c-0.867-0.007-1.768-0.024-2.594-0.253\\r\\n\\t\\t\\tc-1.339-0.371-2.143-1.354-2.297-2.748c-0.102-0.912-0.079-1.84-0.08-2.761c-0.004-11.372-0.004-22.744-0.002-34.116\\r\\n\\t\\t\\tc0.001-4.128,3.546-6.211,7.265-4.262c1.392,0.73,1.931,1.947,1.931,3.475C73.854,62.516,73.857,68.663,73.857,74.81z\\r\\n\\t\\t\\t M117.352,91.996c0,2.34-1.193,4.135-3.168,4.791c-2.013,0.668-3.756,0.049-5.27-1.907c-5.829-7.529-11.651-15.063-17.477-22.595\\r\\n\\t\\t\\tc-0.285-0.367-0.586-0.72-1.146-1.408c-0.038,0.85-0.076,1.303-0.076,1.755c-0.005,6.629,0.01,13.257-0.012,19.885\\r\\n\\t\\t\\tc-0.008,2.318-1.668,4.138-4.004,4.502c-2.062,0.321-4.238-1.051-4.897-3.147c-0.166-0.529-0.205-1.117-0.206-1.678\\r\\n\\t\\t\\tc-0.011-11.589-0.012-23.178-0.005-34.766c0.002-2.299,1.197-4.104,3.077-4.724c2.045-0.674,3.902-0.018,5.4,1.931\\r\\n\\t\\t\\tc5.804,7.549,11.603,15.101,17.405,22.65c0.283,0.367,0.496,0.715,0.793,1.071c0.122-0.05,0.272-0.101,0.272-0.151V76.66\\r\\n\\t\\t\\tc0-6.496,0.082-12.993,0.105-19.49c0.01-2.453,1.391-4.067,3.733-4.601c2.692-0.614,5.415,1.475,5.44,4.266\\r\\n\\t\\t\\tc0.039,3.95,0.035,7.901,0.035,11.852C117.354,76.457,117.355,84.226,117.352,91.996z M133.699,63.151\\r\\n\\t\\t\\tc0.1,1.751,0.023,3.512,0.025,5.269c0.004,1.769,0.006,1.775,1.846,1.777c4.084,0.004,8.168-0.023,12.252,0.011\\r\\n\\t\\t\\tc3.113,0.025,5.027,2.303,4.594,5.376c-0.311,2.203-2.268,3.781-4.816,3.799c-4.128,0.027-8.257,0.061-12.384-0.024\\r\\n\\t\\t\\tc-1.282-0.027-1.562,0.435-1.511,1.585c0.076,1.754,0.091,3.517-0.004,5.268c-0.068,1.251,0.322,1.688,1.613,1.667\\r\\n\\t\\t\\tc4.127-0.07,8.256-0.054,12.383-0.014c3.187,0.03,5.098,2.204,4.729,5.276c-0.262,2.181-2.11,3.875-4.44,3.89\\r\\n\\t\\t\\tc-6.28,0.039-12.561,0.045-18.84-0.001c-2.621-0.02-4.531-2.022-4.539-4.65c-0.021-5.885-0.006-11.77-0.006-17.655\\r\\n\\t\\t\\tc-0.002-5.753-0.006-11.506,0-17.26c0.004-3.1,1.877-5.029,4.98-5.042c6.017-0.027,12.033-0.024,18.05,0\\r\\n\\t\\t\\tc2.351,0.01,4.292,1.463,4.741,3.438c0.499,2.192-0.364,4.318-2.303,5.237c-0.756,0.359-1.686,0.477-2.539,0.487\\r\\n\\t\\t\\tc-4.084,0.048-8.168,0.055-12.252,0.002C134.104,61.572,133.63,61.907,133.699,63.151z\"/>\\r\\n\\t</symbol>\\r\\n\\t<symbol id=\"icon-search\" viewBox=\"0 0 28.771 28.807\">\\r\\n\\t\\t<path d=\"M12.927,0c0.303,0.034,0.606,0.064,0.909,0.102\\r\\n\\t\\t\\tc1.975,0.247,3.786,0.933,5.412,2.075c2.711,1.904,4.454,4.479,5.074,7.736c0.731,3.841-0.192,7.293-2.684,10.316\\r\\n\\t\\t\\tc-0.019,0.023-0.038,0.046-0.056,0.07c-0.006,0.009-0.009,0.021-0.061,0.081c0.062,0.038,0.133,0.066,0.183,0.116\\r\\n\\t\\t\\tc2.238,2.234,4.475,4.47,6.707,6.709c0.141,0.141,0.242,0.322,0.361,0.484c0,0.168,0,0.336,0,0.504\\r\\n\\t\\t\\tc-0.115,0.312-0.345,0.5-0.648,0.612c-0.12,0-0.24,0-0.36,0c-0.254-0.091-0.443-0.268-0.629-0.456\\r\\n\\t\\t\\tc-2.213-2.217-4.428-4.431-6.642-6.647c-0.046-0.046-0.081-0.104-0.128-0.167c-0.19,0.153-0.351,0.286-0.514,0.413\\r\\n\\t\\t\\tc-1.688,1.315-3.582,2.178-5.705,2.464c-4.422,0.597-8.146-0.778-11.127-4.093c-1.509-1.677-2.422-3.666-2.826-5.884\\r\\n\\t\\t\\tc-0.079-0.435-0.106-0.88-0.159-1.32C0.024,13.054,0.011,12.991,0,12.927c0-0.432,0-0.864,0-1.296\\r\\n\\t\\t\\tc0.01-0.052,0.024-0.104,0.031-0.156c0.053-0.452,0.077-0.909,0.162-1.355c0.631-3.315,2.326-5.959,5.077-7.911\\r\\n\\t\\t\\tc1.635-1.161,3.461-1.856,5.454-2.106C11.025,0.064,11.328,0.034,11.63,0C12.063,0,12.495,0,12.927,0z M12.261,22.846\\r\\n\\t\\t\\tc5.801,0.005,10.56-4.722,10.568-10.499c0.009-5.854-4.693-10.611-10.497-10.62C6.459,1.718,1.72,6.434,1.723,12.285\\r\\n\\t\\t\\tC1.726,18.109,6.447,22.84,12.261,22.846z\"/>\\r\\n\\t</symbol>\\r\\n\\t<symbol id=\"icon-cart\" viewBox=\"0 0 28.667 26.483\">\\r\\n\\t\\t<path d=\"M28.667,6.215c-0.148,0.67-0.304,1.338-0.443,2.01\\r\\n\\t\\t\\tc-0.513,2.479-1.018,4.959-1.531,7.437c-0.168,0.816-0.703,1.239-1.549,1.239c-5.626,0.001-11.253,0-16.879,0\\r\\n\\t\\t\\tc-0.119,0-0.238,0-0.39,0c0.143,0.688,0.278,1.339,0.416,2.006c0.146,0,0.266,0,0.387,0c5.393,0,10.787,0,16.18,0\\r\\n\\t\\t\\tc0.131,0,0.262-0.002,0.392,0.01c0.322,0.033,0.582,0.302,0.614,0.627c0.031,0.305-0.168,0.622-0.469,0.716\\r\\n\\t\\t\\tc-0.122,0.038-0.256,0.053-0.385,0.053c-5.533,0.003-11.066,0.003-16.6,0.001c-0.834,0-1.358-0.442-1.527-1.261\\r\\n\\t\\t\\tC5.827,13.942,4.768,8.831,3.711,3.718C3.657,3.454,3.589,3.192,3.554,2.925C3.529,2.732,3.438,2.64,3.265,2.567\\r\\n\\t\\t\\tC2.407,2.206,1.559,1.822,0.701,1.463C0.421,1.346,0.173,1.206,0,0.952c0-0.168,0-0.336,0-0.504C0.149,0.299,0.299,0.149,0.448,0\\r\\n\\t\\t\\tc0.149,0,0.299,0,0.448,0c1.013,0.443,2.023,0.896,3.042,1.327c0.536,0.226,0.86,0.6,0.964,1.169\\r\\n\\t\\t\\tc0.025,0.137,0.054,0.273,0.083,0.41c0.113,0.542,0.227,1.084,0.341,1.63c0.146,0,0.257,0,0.368,0c7.135,0,14.27,0,21.405,0.001\\r\\n\\t\\t\\tc0.139,0,0.281,0.001,0.417,0.026c0.619,0.114,0.947,0.538,1.15,1.092C28.667,5.841,28.667,6.028,28.667,6.215z M5.614,5.951\\r\\n\\t\\t\\tc0.658,3.189,1.31,6.349,1.965,9.523c5.905,0,11.796,0,17.711,0c0.655-3.172,1.308-6.339,1.965-9.523\\r\\n\\t\\t\\tC20.037,5.951,12.848,5.951,5.614,5.951z\"/>\\r\\n\\t\\t<path d=\"M11.646,26.483c-0.627-0.154-1.18-0.426-1.601-0.94\\r\\n\\t\\t\\tc-0.657-0.804-0.738-1.992-0.18-2.899c0.565-0.919,1.668-1.378,2.728-1.133c1.012,0.233,1.812,1.133,1.916,2.154\\r\\n\\t\\t\\tc0.138,1.359-0.688,2.483-2.037,2.772c-0.035,0.007-0.066,0.03-0.098,0.046C12.131,26.483,11.888,26.483,11.646,26.483z\\r\\n\\t\\t\\t M10.906,23.925c-0.016,0.627,0.461,1.139,1.079,1.155c0.603,0.016,1.113-0.469,1.132-1.075c0.019-0.623-0.462-1.137-1.08-1.155\\r\\n\\t\\t\\tC11.436,22.832,10.922,23.321,10.906,23.925z\"/>\\r\\n\\t\\t<path d=\"M20.492,26.483c-0.596-0.15-1.131-0.397-1.544-0.878\\r\\n\\t\\t\\tc-0.694-0.806-0.806-1.983-0.261-2.915c0.55-0.941,1.64-1.415,2.729-1.185c1.019,0.216,1.83,1.118,1.942,2.16\\r\\n\\t\\t\\tc0.144,1.336-0.698,2.493-2.011,2.767c-0.044,0.009-0.084,0.033-0.126,0.05C20.978,26.483,20.735,26.483,20.492,26.483z\\r\\n\\t\\t\\t M19.754,23.961c-0.001,0.623,0.498,1.125,1.114,1.119c0.604-0.005,1.095-0.502,1.097-1.111c0.002-0.619-0.504-1.126-1.117-1.12\\r\\n\\t\\t\\tC20.243,22.855,19.756,23.35,19.754,23.961z\"/>\\r\\n\\t\\t<path d=\"M16.421,9.586c-1.614,0-3.228,0.001-4.842-0.001\\r\\n\\t\\t\\tc-0.139-0.001-0.284,0-0.416-0.035c-0.272-0.073-0.463-0.341-0.473-0.626c-0.011-0.309,0.155-0.582,0.433-0.683\\r\\n\\t\\t\\tc0.103-0.037,0.218-0.059,0.327-0.059c3.321-0.003,6.642-0.004,9.963,0c0.461,0,0.764,0.295,0.762,0.713\\r\\n\\t\\t\\tc-0.001,0.42-0.296,0.69-0.774,0.691C19.743,9.588,18.082,9.586,16.421,9.586z\"/>\\r\\n\\t\\t<path d=\"M16.403,13.245c-1.444,0-2.889,0.001-4.334-0.001\\r\\n\\t\\t\\tc-0.535-0.001-0.838-0.273-0.827-0.728c0.008-0.328,0.218-0.586,0.542-0.654c0.108-0.022,0.221-0.03,0.333-0.03\\r\\n\\t\\t\\tc2.88-0.001,5.76-0.002,8.64,0c0.583,0,0.904,0.29,0.867,0.774c-0.023,0.313-0.241,0.561-0.553,0.615\\r\\n\\t\\t\\tc-0.119,0.021-0.241,0.023-0.361,0.023C19.273,13.246,17.838,13.245,16.403,13.245z\"/>\\r\\n\\t</symbol>\\r\\n\\t<symbol id=\"icon-clock\" viewBox=\"0 0 28.141 28.159\">\\r\\n\\t\\t<path d=\"M28.141,12.777c0,0.845,0,1.69,0,2.535c-0.058,0.312-0.123,0.623-0.174,0.936\\r\\n\\t\\t\\tc-0.958,5.814-5.174,10.286-10.926,11.565c-0.663,0.147-1.339,0.232-2.01,0.346c-0.641,0-1.282,0-1.922,0\\r\\n\\t\\t\\tc-0.457-0.069-0.915-0.134-1.371-0.208C6.218,27.057,1.61,22.729,0.374,17.269C0.227,16.621,0.124,15.964,0,15.312\\r\\n\\t\\t\\tc0-0.816,0-1.631,0-2.447c0.089-0.498,0.175-0.997,0.27-1.494C1.597,4.392,8.246-0.984,16.141,0.152\\r\\n\\t\\t\\tc5.77,0.83,10.32,5.103,11.646,10.798C27.928,11.553,28.024,12.167,28.141,12.777z M14.086,26.303\\r\\n\\t\\t\\tc6.724-0.017,12.238-5.541,12.227-12.249C26.301,7.319,20.769,1.821,14.017,1.835C7.318,1.849,1.812,7.403,1.833,14.124\\r\\n\\t\\t\\tC1.855,20.807,7.402,26.32,14.086,26.303z\"/>\\r\\n\\t\\t<path d=\"M12.773,10.678c0-1.34-0.002-2.68,0.001-4.02\\r\\n\\t\\t\\tc0.001-0.609,0.357-1.013,0.888-1.025c0.555-0.013,0.927,0.388,0.929,1.026c0.004,2.199,0.001,4.398,0.002,6.597\\r\\n\\t\\t\\tc0,0.672,0,0.673,0.652,0.673c1.922,0,3.845,0,5.767,0c0.131,0,0.263-0.005,0.393,0.003c0.511,0.036,0.862,0.409,0.863,0.913\\r\\n\\t\\t\\tc0.001,0.509-0.338,0.894-0.868,0.896c-2.592,0.011-5.184,0.012-7.776-0.002c-0.54-0.003-0.847-0.376-0.849-0.956\\r\\n\\t\\t\\tC12.77,13.416,12.773,12.046,12.773,10.678z\"/>\\r\\n\\t</symbol>\\r\\n\\t<symbol id=\"icon-arrow01\" viewBox=\"0 0 24.433 38.693\">\\r\\n\\t\\t<path d=\"M0.042,38.693c-0.014-0.007-0.039-0.013-0.04-0.021\\r\\n\\t\\t\\tC-0.001,38.617,0,38.563,0,38.507C0,25.733,0,12.96,0.002,0.187c0-0.063,0.025-0.125,0.04-0.187\\r\\n\\t\\t\\tc0.034,0.032,0.066,0.068,0.103,0.098c3.607,2.857,7.215,5.715,10.822,8.573c4.24,3.358,8.48,6.717,12.72,10.076\\r\\n\\t\\t\\tc0.246,0.195,0.491,0.393,0.746,0.595c-0.053,0.048-0.082,0.077-0.113,0.103c-0.616,0.488-1.232,0.977-1.85,1.465\\r\\n\\t\\t\\tc-3.483,2.76-6.966,5.518-10.449,8.276c-3.429,2.716-6.858,5.432-10.287,8.149C1.167,37.784,0.605,38.24,0.042,38.693z\"/>\\r\\n\\t</symbol>\\r\\n\\t<symbol id=\"icon-download\" viewBox=\"0 0 30.947 35.934\">\\r\\n\\t\\t<path d=\"M0,25.594c0.222-0.573,0.582-0.988,1.24-1.024\\r\\n\\t\\t\\tc0.791-0.043,1.395,0.542,1.397,1.356c0.004,2.309,0.001,4.617,0.001,6.926c0,0.132,0,0.264,0,0.42c8.557,0,17.088,0,25.671,0\\r\\n\\t\\t\\tc0-0.126,0-0.254,0-0.383c0-2.235,0-4.471,0-6.706c0-0.907,0.339-1.43,1.034-1.593c0.669-0.157,1.227,0.192,1.604,1.005\\r\\n\\t\\t\\tc0,3.104,0,6.209,0,9.313c-0.181,0.504-0.527,0.842-1.027,1.027c-9.631,0-19.262,0-28.894,0C0.524,35.752,0.182,35.41,0,34.907\\r\\n\\t\\t\\tC0,31.803,0,28.698,0,25.594z\"/>\\r\\n\\t\\t<path d=\"M15.767,0c0.761,0.289,1.069,0.839,1.034,1.649\\r\\n\\t\\t\\tc-0.037,0.866-0.006,1.734-0.009,2.602c-0.003,0.823-0.55,1.401-1.318,1.401s-1.315-0.578-1.318-1.401\\r\\n\\t\\t\\tc-0.003-0.868,0.028-1.736-0.009-2.602C14.111,0.839,14.419,0.289,15.18,0C15.376,0,15.571,0,15.767,0z\"/>\\r\\n\\t\\t<path d=\"M16.913,23.971c0.076-0.109,0.137-0.233,0.229-0.326\\r\\n\\t\\t\\tc1.687-1.701,3.378-3.397,5.066-5.098c0.409-0.411,0.871-0.622,1.455-0.438c0.901,0.284,1.219,1.393,0.604,2.11\\r\\n\\t\\t\\tc-0.071,0.083-0.151,0.16-0.229,0.238c-2.496,2.499-4.993,4.998-7.49,7.496c-0.733,0.733-1.431,0.738-2.158,0.011\\r\\n\\t\\t\\tc-2.523-2.524-5.042-5.053-7.568-7.573c-0.401-0.4-0.56-0.862-0.415-1.398c0.135-0.5,0.493-0.808,0.998-0.918\\r\\n\\t\\t\\tc0.514-0.112,0.926,0.083,1.286,0.445c1.543,1.551,3.092,3.096,4.636,4.646c0.25,0.25,0.491,0.51,0.828,0.744\\r\\n\\t\\t\\tc0-0.123,0-0.245,0-0.368c0-4.607,0-9.215,0-13.823c0-0.789,0.483-1.369,1.181-1.428c0.804-0.068,1.451,0.516,1.455,1.335\\r\\n\\t\\t\\tc0.007,1.503,0.002,3.007,0.002,4.51c0,3.117,0,6.233,0,9.35c0,0.134,0,0.268,0,0.402C16.833,23.915,16.873,23.943,16.913,23.971z\"\\r\\n\\t\\t\\t/>\\r\\n\\t</symbol>\\r\\n</svg><!--general Js-->\\n\\n<!--\\n<script src=\"../lib/jquery.easeScroll.js\"></script>\\n<script>\\n$(\"html\").easeScroll();\\n</script>\\n-->\\n\\n<script type=\"text/javascript\" src=\"../lib/jsManage.js\"></script>\\n\\n<!--fancyBox-->\\n<link rel=\"stylesheet\" href=\"../lib/fancybox/dist/jquery.fancybox.css\">\\n<script src=\"../lib/fancybox/dist/jquery.fancybox.min.js\"></script>\\n<script>\\n    $(function() {\\n        $(\\'.titan-lb\\').fancybox({\\n            thumbs : {\\n                showOnStart : true\\n            },\\n            hash     : true\\n        });\\n    })\\n</script>\\n\\n<!-- slick -->\\n<link rel=\"stylesheet\" href=\"../lib/slick-slider/slick-theme.css\">\\n<link rel=\"stylesheet\" href=\"../lib/slick-slider/slick.css\">\\n<script src=\"../lib/slick-slider/slick.min.js\"></script>\\n<script>\\n    $(function() {\\n        $(\\'#banner\\').slick({\\n            infinite: true,\\n            slidesToShow: 1,\\n            slidesToScroll: 1,\\n            fade: true,\\n            autoplay: true,\\n            autoplaySpeed: 3000,\\n            cssEase: \\'ease-in-out\\'\\n        });\\n    });\\n</script>\\n\\n<!--footable-->\\n<link rel=\"stylesheet\" type=\"text/css\" href=\"../lib/footable/css/footable.core.css\">\\n<script src=\"../lib/footable/footable.js\"></script>\\n<script>\\n    $(\\'table.responsive\\').footable();\\n</script>\\n\\n<!--customBox-->\\n<link rel=\"stylesheet\" href=\"../lib/custombox/custombox.css\" type=\"text/css\">\\n<script src=\"../lib/custombox/custombox.js\"></script>\\n<script src=\"../lib/custombox/legacy.js\"></script>\\n\\n<!--fb-->\\n<div id=\"fb-root\"></div>\\n<script>(function(d, s, id) {\\n  var js, fjs = d.getElementsByTagName(s)[0];\\n  if (d.getElementById(id)) return;\\n  js = d.createElement(s); js.id = id;\\n  js.src = \"//connect.facebook.net/zh_TW/all.js#xfbml=1\";\\n  fjs.parentNode.insertBefore(js, fjs);\\n}(document, \\'script\\', \\'facebook-jssdk\\'));</script>\\t    \\n<!--customer Js-->\\n<!--dotdot-->\\n<script type=\"text/javascript\" src=\"../lib/jquery.dotdotdot.min.js\"></script>\\n<script type=\"text/javascript\">\\n\\t$(document).ready(function() {\\n\\t\\t$(\\'.ellipsis\\').dotdotdot({\\n\\t\\t\\t wrap: \\'letter\\',\\n\\t\\t\\t remove: [ \\' \\', \\',\\', \\';\\', \\'.\\', \\'!\\', \\'?\\' ]\\n\\t\\t});\\n\\t});\\n</script>\\n\\n<script>\\n$(function(){\\n\\t$(\\'.item\\').click(function(){\\n\\t\\tif($(this).hasClass(\\'hasVideo\\') && isMobile==true){\\n\\t\\t\\tvar href= $(this).siblings().find(\\'a\\').attr(\\'href\\');\\n\\t\\t\\twindow.open(href);\\n\\t\\t}else if($(this).hasClass(\\'hasVideo\\') && isMobile==false){\\n\\t\\t\\t$(this).siblings().find(\\'a\\').eq(0).click();\\n\\t\\t}else if($(this).hasClass(\\'hasAlbum\\')){\\n\\t\\t\\t$(this).siblings().find(\\'a\\').eq(0).click();\\n\\t\\t}\\n\\t});\\n    $(\\'.classImgList\\').slick({\\n        infinite: true,\\n        slidesToShow: 1,\\n        slidesToScroll: 1,\\n        arrows: true,\\n        prevArrow: $(\\'.classImgBox .arrowsL\\'),\\n        nextArrow: $(\\'.classImgBox .arrowsR\\'),\\n        autoplay: true,\\n        autoplaySpeed: 3000,\\n        cssEase: \\'ease-in-out\\'\\n    });\\n});\\n</script>\\n</body>\\n</html>'"
      ]
     },
     "execution_count": 4,
     "metadata": {},
     "output_type": "execute_result"
    }
   ],
   "source": [
    "response.text"
   ]
  },
  {
   "cell_type": "markdown",
   "id": "54596c31",
   "metadata": {},
   "source": [
    "<h3>用response找尋</h3>"
   ]
  },
  {
   "cell_type": "code",
   "execution_count": 5,
   "id": "64392a4d",
   "metadata": {},
   "outputs": [
    {
     "name": "stdout",
     "output_type": "stream",
     "text": [
      "                                <div class=\"Txt b-box\"><!--Txt-->\n",
      "                                <div class=\"Txt b-box\"><!--Txt-->\n",
      "                                <div class=\"Txt b-box\"><!--Txt-->\n",
      "                                <div class=\"Txt b-box\"><!--Txt-->\n",
      "                                <div class=\"Txt b-box\"><!--Txt-->\n",
      "                                <div class=\"Txt b-box\"><!--Txt-->\n",
      "                                <div class=\"Txt b-box\"><!--Txt-->\n",
      "                                <div class=\"Txt b-box\"><!--Txt-->\n",
      "                                <div class=\"Txt b-box\"><!--Txt-->\n",
      "                                <div class=\"Txt b-box\"><!--Txt-->\n",
      "                                <div class=\"Txt b-box\"><!--Txt-->\n",
      "                                <div class=\"Txt b-box\"><!--Txt-->\n",
      "                                <div class=\"Txt b-box\"><!--Txt-->\n",
      "                                <div class=\"Txt b-box\"><!--Txt-->\n",
      "                                <div class=\"Txt b-box\"><!--Txt-->\n",
      "                                <div class=\"Txt b-box\"><!--Txt-->\n",
      "                                <div class=\"Txt b-box\"><!--Txt-->\n",
      "                                <div class=\"Txt b-box\"><!--Txt-->\n",
      "                                <div class=\"Txt b-box\"><!--Txt-->\n",
      "                                <div class=\"Txt b-box\"><!--Txt-->\n"
     ]
    }
   ],
   "source": [
    "for line in response.text.split('\\r\\n'): #切割\n",
    "    _line=line.strip()\n",
    "    if _line!='':\n",
    "            for _line2 in _line.split('\\n'):\n",
    "                if '<div class=\"Txt b-box\"' in _line2: #''中的內容有無出現在網頁中\n",
    "                    print(_line2)"
   ]
  },
  {
   "cell_type": "markdown",
   "id": "23a025a4",
   "metadata": {},
   "source": [
    "<h3>用BeautifulSoup找尋</h3>"
   ]
  },
  {
   "cell_type": "code",
   "execution_count": 13,
   "id": "89c8f476",
   "metadata": {},
   "outputs": [
    {
     "name": "stdout",
     "output_type": "stream",
     "text": [
      "ASCII_SPACES\n",
      "DEFAULT_BUILDER_FEATURES\n",
      "DEFAULT_INTERESTING_STRING_TYPES\n",
      "NO_PARSER_SPECIFIED_WARNING\n",
      "ROOT_TAG_NAME\n",
      "append\n",
      "childGenerator\n",
      "children\n",
      "clear\n",
      "decode\n",
      "decode_contents\n",
      "decompose\n",
      "decomposed\n",
      "default\n",
      "descendants\n",
      "encode\n",
      "encode_contents\n",
      "endData\n",
      "extend\n",
      "extract\n",
      "fetchNextSiblings\n",
      "fetchParents\n",
      "fetchPrevious\n",
      "fetchPreviousSiblings\n",
      "find\n",
      "findAll\n",
      "findAllNext\n",
      "findAllPrevious\n",
      "findChild\n",
      "findChildren\n",
      "findNext\n",
      "findNextSibling\n",
      "findNextSiblings\n",
      "findParent\n",
      "findParents\n",
      "findPrevious\n",
      "findPreviousSibling\n",
      "findPreviousSiblings\n",
      "find_all\n",
      "find_all_next\n",
      "find_all_previous\n",
      "find_next\n",
      "find_next_sibling\n",
      "find_next_siblings\n",
      "find_parent\n",
      "find_parents\n",
      "find_previous\n",
      "find_previous_sibling\n",
      "find_previous_siblings\n",
      "format_string\n",
      "formatter_for_name\n",
      "get\n",
      "getText\n",
      "get_attribute_list\n",
      "get_text\n",
      "handle_data\n",
      "handle_endtag\n",
      "handle_starttag\n",
      "has_attr\n",
      "has_key\n",
      "index\n",
      "insert\n",
      "insert_after\n",
      "insert_before\n",
      "isSelfClosing\n",
      "is_empty_element\n",
      "new_string\n",
      "new_tag\n",
      "next\n",
      "nextGenerator\n",
      "nextSibling\n",
      "nextSiblingGenerator\n",
      "next_elements\n",
      "next_siblings\n",
      "object_was_parsed\n",
      "parentGenerator\n",
      "parents\n",
      "parserClass\n",
      "popTag\n",
      "prettify\n",
      "previous\n",
      "previousGenerator\n",
      "previousSibling\n",
      "previousSiblingGenerator\n",
      "previous_elements\n",
      "previous_siblings\n",
      "pushTag\n",
      "recursiveChildGenerator\n",
      "renderContents\n",
      "replaceWith\n",
      "replaceWithChildren\n",
      "replace_with\n",
      "replace_with_children\n",
      "reset\n",
      "select\n",
      "select_one\n",
      "setup\n",
      "smooth\n",
      "string\n",
      "string_container\n",
      "strings\n",
      "stripped_strings\n",
      "text\n",
      "unwrap\n",
      "wrap\n"
     ]
    }
   ],
   "source": [
    "for method in dir(BeautifulSoup): #查詢物件有哪些方法\n",
    "    if '_' == method[0]: #_多為python內部使用\n",
    "        continue\n",
    "        \n",
    "    print(method)"
   ]
  },
  {
   "cell_type": "code",
   "execution_count": 7,
   "id": "d58cfb65",
   "metadata": {},
   "outputs": [
    {
     "data": {
      "text/plain": [
       "[<div class=\"Txt b-box\"><!--Txt-->\n",
       " <h3><strong><a href=\"ins.php?index_id=399\" title=\"Cyberlink\">Cyberlink</a></strong></h3>\n",
       " <p>訊連科技</p>\n",
       " </div>,\n",
       " <div class=\"Txt b-box\"><!--Txt-->\n",
       " <h3><strong><a href=\"ins.php?index_id=423\" title=\"Dexerials Taiwan Corporation\">Dexerials Taiwan Corporation</a></strong></h3>\n",
       " <p>台灣迪睿合股份有限公司</p>\n",
       " </div>,\n",
       " <div class=\"Txt b-box\"><!--Txt-->\n",
       " <h3><strong><a href=\"ins.php?index_id=464\" title=\"EGIS\">EGIS</a></strong></h3>\n",
       " <p>神盾股份有限公司</p>\n",
       " </div>,\n",
       " <div class=\"Txt b-box\"><!--Txt-->\n",
       " <h3><strong><a href=\"ins.php?index_id=283\" title=\"ELATEC\">ELATEC</a></strong></h3>\n",
       " <p>ELATEC</p>\n",
       " </div>,\n",
       " <div class=\"Txt b-box\"><!--Txt-->\n",
       " <h3><strong><a href=\"ins.php?index_id=146\" title=\"Eleven Engineering Inc.\">Eleven Engineering Inc.</a></strong></h3>\n",
       " <p>Eleven Engineering Inc.</p>\n",
       " </div>,\n",
       " <div class=\"Txt b-box\"><!--Txt-->\n",
       " <h3><strong><a href=\"ins.php?index_id=455\" title=\"Elevoc\">Elevoc</a></strong></h3>\n",
       " <p>大象聲科</p>\n",
       " </div>,\n",
       " <div class=\"Txt b-box\"><!--Txt-->\n",
       " <h3><strong><a href=\"ins.php?index_id=449\" title=\"Enovix\">Enovix</a></strong></h3>\n",
       " <p></p>\n",
       " </div>,\n",
       " <div class=\"Txt b-box\"><!--Txt-->\n",
       " <h3><strong><a href=\"ins.php?index_id=170\" title=\"FocalTech\">FocalTech</a></strong></h3>\n",
       " <p>敦泰電子股份有限公司</p>\n",
       " </div>,\n",
       " <div class=\"Txt b-box\"><!--Txt-->\n",
       " <h3><strong><a href=\"ins.php?index_id=408\" title=\"FRAMOS \">FRAMOS </a></strong></h3>\n",
       " <p></p>\n",
       " </div>,\n",
       " <div class=\"Txt b-box\"><!--Txt-->\n",
       " <h3><strong><a href=\"ins.php?index_id=150\" title=\"GCT\">GCT</a></strong></h3>\n",
       " <p>GCT</p>\n",
       " </div>,\n",
       " <div class=\"Txt b-box\"><!--Txt-->\n",
       " <h3><strong><a href=\"ins.php?index_id=261\" title=\"GigaDevice\">GigaDevice</a></strong></h3>\n",
       " <p>北京兆易創新科技股份有限公司</p>\n",
       " </div>,\n",
       " <div class=\"Txt b-box\"><!--Txt-->\n",
       " <h3><strong><a href=\"ins.php?index_id=144\" title=\"GP\">GP</a></strong></h3>\n",
       " <p>金山電池國際有限公司</p>\n",
       " </div>,\n",
       " <div class=\"Txt b-box\"><!--Txt-->\n",
       " <h3><strong><a href=\"ins.php?index_id=429\" title=\"GRAID Technology Inc.\">GRAID Technology Inc.</a></strong></h3>\n",
       " <p>圖睿科技有限公司</p>\n",
       " </div>,\n",
       " <div class=\"Txt b-box\"><!--Txt-->\n",
       " <h3><strong><a href=\"ins.php?index_id=178\" title=\"Hannstar\">Hannstar</a></strong></h3>\n",
       " <p>瀚宇彩晶</p>\n",
       " </div>,\n",
       " <div class=\"Txt b-box\"><!--Txt-->\n",
       " <h3><strong><a href=\"ins.php?index_id=186\" title=\"Impinj\">Impinj</a></strong></h3>\n",
       " <p>Impinj</p>\n",
       " </div>,\n",
       " <div class=\"Txt b-box\"><!--Txt-->\n",
       " <h3><strong><a href=\"ins.php?index_id=392\" title=\"Injoinic\">Injoinic</a></strong></h3>\n",
       " <p>英集芯科技</p>\n",
       " </div>,\n",
       " <div class=\"Txt b-box\"><!--Txt-->\n",
       " <h3><strong><a href=\"ins.php?index_id=188\" title=\"Innolux\">Innolux</a></strong></h3>\n",
       " <p>群創光電股份有限公司</p>\n",
       " </div>,\n",
       " <div class=\"Txt b-box\"><!--Txt-->\n",
       " <h3><strong><a href=\"ins.php?index_id=435\" title=\"Innoviz\">Innoviz</a></strong></h3>\n",
       " <p></p>\n",
       " </div>,\n",
       " <div class=\"Txt b-box\"><!--Txt-->\n",
       " <h3><strong><a href=\"ins.php?index_id=467\" title=\"iSentek\">iSentek</a></strong></h3>\n",
       " <p>愛盛科技股份有限公司</p>\n",
       " </div>,\n",
       " <div class=\"Txt b-box\"><!--Txt-->\n",
       " <h3><strong><a href=\"ins.php?index_id=452\" title=\"ITE Tech. Inc.\">ITE Tech. Inc.</a></strong></h3>\n",
       " <p>聯陽半導體股份有限公司</p>\n",
       " </div>]"
      ]
     },
     "execution_count": 7,
     "metadata": {},
     "output_type": "execute_result"
    }
   ],
   "source": [
    "soup=BeautifulSoup(response.text,'html.parser')\n",
    "result=soup.find_all('div',{'class':'Txt b-box'}) #尋找所有的內容\n",
    "result#陣列,div到div為一段(結構化)"
   ]
  },
  {
   "cell_type": "code",
   "execution_count": 17,
   "id": "171f65ec",
   "metadata": {},
   "outputs": [],
   "source": [
    "company_info=dict()\n",
    "for ele in result:\n",
    "    if ele.text.strip()=='': #跳過空行\n",
    "        continue\n",
    "    \n",
    "    company_id=''\n",
    "    company_name=''\n",
    "    \n",
    "    for tag in ele.find_all():\n",
    "        #a為英文p為中文\n",
    "        if tag.name=='a': #每個a裡面的title\n",
    "            if tag['title'] not in company_info:\n",
    "                    company_id=tag['title']\n",
    "\n",
    "        elif tag.name=='p': #每個P裡面的title\n",
    "            if tag.text.strip()!='':\n",
    "                company_name=tag.text\n",
    "    if company_name=='':\n",
    "        company_info[company_id]=company_id\n",
    "    else:\n",
    "        company_info[company_id]=company_name\n",
    "company_info"
   ]
  },
  {
   "cell_type": "code",
   "execution_count": null,
   "id": "f5f9c26c",
   "metadata": {},
   "outputs": [],
   "source": []
  }
 ],
 "metadata": {
  "kernelspec": {
   "display_name": "Python 3 (ipykernel)",
   "language": "python",
   "name": "python3"
  },
  "language_info": {
   "codemirror_mode": {
    "name": "ipython",
    "version": 3
   },
   "file_extension": ".py",
   "mimetype": "text/x-python",
   "name": "python",
   "nbconvert_exporter": "python",
   "pygments_lexer": "ipython3",
   "version": "3.8.12"
  }
 },
 "nbformat": 4,
 "nbformat_minor": 5
}
