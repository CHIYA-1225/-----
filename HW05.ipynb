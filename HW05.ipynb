{
 "cells": [
  {
   "cell_type": "code",
   "execution_count": 1,
   "metadata": {},
   "outputs": [],
   "source": [
    "import pandas\n",
    "import matplotlib.pyplot as plt\n",
    "import matplotlib.font_manager as font_manager\n",
    "import math"
   ]
  },
  {
   "cell_type": "code",
   "execution_count": 2,
   "metadata": {},
   "outputs": [],
   "source": [
    "from Purchase import Purchase"
   ]
  },
  {
   "cell_type": "code",
   "execution_count": 3,
   "metadata": {},
   "outputs": [],
   "source": [
    "class PurchasePlan(Purchase):\n",
    "    def __init__(self):\n",
    "        Purchase.__init__(self)\n",
    "\n",
    "        data_path = 'D:\\\\Projects\\\\BizCases\\\\data'       \n",
    "        item_stock_file = '%s/模擬訂單庫存餘量.csv' % data_path\n",
    "        self.item_stock = pandas.read_csv(item_stock_file, header=0)\n",
    "        \n",
    "        self.item_stock\n",
    "        \n",
    "        \n",
    "    def Purchase_select(self):\n",
    "        item_shortage = self.get_inventory_item_shortage()\n",
    "\n",
    "        order_item_select = item_shortage['order_item'] == '實現可編程系統控制的硬體安全方案'\n",
    "        return item_shortage[order_item_select]\n",
    "    "
   ]
  },
  {
   "cell_type": "code",
   "execution_count": 4,
   "metadata": {},
   "outputs": [],
   "source": [
    "worker = PurchasePlan()"
   ]
  },
  {
   "cell_type": "code",
   "execution_count": 5,
   "metadata": {},
   "outputs": [
    {
     "data": {
      "text/html": [
       "<div>\n",
       "<style scoped>\n",
       "    .dataframe tbody tr th:only-of-type {\n",
       "        vertical-align: middle;\n",
       "    }\n",
       "\n",
       "    .dataframe tbody tr th {\n",
       "        vertical-align: top;\n",
       "    }\n",
       "\n",
       "    .dataframe thead th {\n",
       "        text-align: right;\n",
       "    }\n",
       "</style>\n",
       "<table border=\"1\" class=\"dataframe\">\n",
       "  <thead>\n",
       "    <tr style=\"text-align: right;\">\n",
       "      <th></th>\n",
       "      <th>order_id</th>\n",
       "      <th>order_date</th>\n",
       "      <th>order_customer</th>\n",
       "      <th>item_category</th>\n",
       "      <th>item_vendor</th>\n",
       "      <th>order_item</th>\n",
       "      <th>order_price</th>\n",
       "      <th>order_qty</th>\n",
       "      <th>delivery_date</th>\n",
       "      <th>delivery_address</th>\n",
       "      <th>stock</th>\n",
       "    </tr>\n",
       "  </thead>\n",
       "  <tbody>\n",
       "    <tr>\n",
       "      <th>986</th>\n",
       "      <td>PO-0986</td>\n",
       "      <td>2021-07-18</td>\n",
       "      <td>Rebekah Andrews</td>\n",
       "      <td>積體電路-IC</td>\n",
       "      <td>Lattice</td>\n",
       "      <td>實現可編程系統控制的硬體安全方案</td>\n",
       "      <td>127.05</td>\n",
       "      <td>2741</td>\n",
       "      <td>2022-03-28</td>\n",
       "      <td>USS Hart\\nFPO AE 90272</td>\n",
       "      <td>-1148</td>\n",
       "    </tr>\n",
       "    <tr>\n",
       "      <th>1117</th>\n",
       "      <td>PO-1117</td>\n",
       "      <td>2022-05-21</td>\n",
       "      <td>Jesse Winters</td>\n",
       "      <td>積體電路-IC</td>\n",
       "      <td>Lattice</td>\n",
       "      <td>實現可編程系統控制的硬體安全方案</td>\n",
       "      <td>127.05</td>\n",
       "      <td>2934</td>\n",
       "      <td>2022-06-02</td>\n",
       "      <td>4388 Bowers Shoals\\nSandrabury, WA 29983</td>\n",
       "      <td>-4082</td>\n",
       "    </tr>\n",
       "  </tbody>\n",
       "</table>\n",
       "</div>"
      ],
      "text/plain": [
       "     order_id  order_date   order_customer item_category item_vendor  \\\n",
       "986   PO-0986  2021-07-18  Rebekah Andrews       積體電路-IC     Lattice   \n",
       "1117  PO-1117  2022-05-21    Jesse Winters       積體電路-IC     Lattice   \n",
       "\n",
       "            order_item  order_price  order_qty delivery_date  \\\n",
       "986   實現可編程系統控制的硬體安全方案       127.05       2741    2022-03-28   \n",
       "1117  實現可編程系統控制的硬體安全方案       127.05       2934    2022-06-02   \n",
       "\n",
       "                              delivery_address  stock  \n",
       "986                     USS Hart\\nFPO AE 90272  -1148  \n",
       "1117  4388 Bowers Shoals\\nSandrabury, WA 29983  -4082  "
      ]
     },
     "execution_count": 5,
     "metadata": {},
     "output_type": "execute_result"
    }
   ],
   "source": [
    "worker.Purchase_select()"
   ]
  },
  {
   "cell_type": "code",
   "execution_count": null,
   "metadata": {},
   "outputs": [],
   "source": []
  },
  {
   "cell_type": "code",
   "execution_count": null,
   "metadata": {},
   "outputs": [],
   "source": []
  },
  {
   "cell_type": "code",
   "execution_count": null,
   "metadata": {},
   "outputs": [],
   "source": []
  },
  {
   "cell_type": "code",
   "execution_count": null,
   "metadata": {},
   "outputs": [],
   "source": []
  },
  {
   "cell_type": "code",
   "execution_count": null,
   "metadata": {},
   "outputs": [],
   "source": []
  }
 ],
 "metadata": {
  "kernelspec": {
   "display_name": "Python 3",
   "language": "python",
   "name": "python3"
  },
  "language_info": {
   "codemirror_mode": {
    "name": "ipython",
    "version": 3
   },
   "file_extension": ".py",
   "mimetype": "text/x-python",
   "name": "python",
   "nbconvert_exporter": "python",
   "pygments_lexer": "ipython3",
   "version": "3.8.3"
  }
 },
 "nbformat": 4,
 "nbformat_minor": 4
}
