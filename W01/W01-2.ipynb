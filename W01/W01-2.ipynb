{
 "cells": [
  {
   "cell_type": "markdown",
   "id": "017a8c9e",
   "metadata": {},
   "source": [
    "<h3>設計物件導向</h3>"
   ]
  },
  {
   "cell_type": "code",
   "execution_count": 1,
   "id": "85c18bf2",
   "metadata": {},
   "outputs": [],
   "source": [
    "import numpy\n",
    "import pandas\n",
    "import os"
   ]
  },
  {
   "cell_type": "code",
   "execution_count": 31,
   "id": "8d52b5c7",
   "metadata": {},
   "outputs": [],
   "source": [
    "class GameHistory: #以class為一群組\n",
    "    \n",
    "    #設計群組內的函式,()裡面一定要放入使用者self\n",
    "    def __init__(self, history_file): #初始化,帶有兩個下劃線開頭的函式是宣告該屬性為私有,不能在類地外部被使用或直接訪問\n",
    "        self.history_file = history_file #'.'='的'\n",
    "        self.game_history = None\n",
    "        \n",
    "    def check_history_file(self):\n",
    "        return os.path.exists(self.history_file)\n",
    "    \n",
    "    def load_history(self):\n",
    "        self.game_history = None\n",
    "        \n",
    "        if self.check_history_file():\n",
    "            self.game_history = pandas.read_csv(self.history_file, header=0)\n",
    "            \n",
    "        return self.game_history\n",
    "    \n",
    "    def get_game_history_data(self):\n",
    "        return self.game_history\n",
    "    \n",
    "    def get_game_epoch_history_data(self, epoch):\n",
    "        return self.game_history.loc[self.game_history['epoch'] == epoch].copy()\n",
    "    \n",
    "    def get_num_of_epochs(self):\n",
    "        if self.game_history is not None:\n",
    "            return self.game_history['epoch'].max()\n",
    "        \n",
    "        return -1\n",
    "    \n",
    "    def get_player_list(self):\n",
    "        if self.game_history is not None:\n",
    "            return self.game_history['player'].unique()\n",
    "        \n",
    "        return []"
   ]
  },
  {
   "cell_type": "code",
   "execution_count": 11,
   "id": "543cd131",
   "metadata": {},
   "outputs": [],
   "source": [
    "csv_file='C:\\\\Users\\\\user\\\\anaconda3\\\\Projects\\\\BizCases\\\\W01\\data\\\\GAME-6-8.csv'"
   ]
  },
  {
   "cell_type": "code",
   "execution_count": 10,
   "id": "97fb2949",
   "metadata": {},
   "outputs": [
    {
     "name": "stdout",
     "output_type": "stream",
     "text": [
      "C:\\Users\\user\\anaconda3\\Projects\\BizCases\\W01\\data\\GAME-6-8.csv檔案存在\n"
     ]
    }
   ],
   "source": [
    "if os.path.exists(csv_file):\n",
    "    print(\"%s檔案存在\"%csv_file)"
   ]
  },
  {
   "cell_type": "code",
   "execution_count": 33,
   "id": "e3a458aa",
   "metadata": {},
   "outputs": [],
   "source": [
    "worker=GameHistory(csv_file) #宣告要使用class,並將資料表匯入做初始化"
   ]
  },
  {
   "cell_type": "code",
   "execution_count": 34,
   "id": "dff89225",
   "metadata": {},
   "outputs": [
    {
     "name": "stdout",
     "output_type": "stream",
     "text": [
      "資料筆數:3314\n",
      "世代數:539\n",
      "玩家隊名:法-俄-美-英-義-德\n",
      "      epoch player  member   x   y  dir  weight\n",
      "2705    323      法       0  15   2    1       2\n",
      "2706    323      法       2   0  11    3       2\n",
      "2707    323      俄       0  17  18    1       6\n"
     ]
    }
   ],
   "source": [
    "game_history=worker.load_history()\n",
    "if game_history is None:\n",
    "    print(\"檔案不存在\")\n",
    "else:\n",
    "    print(\"資料筆數:%d\"%game_history.shape[0]) #資料筆數\n",
    "    print(\"世代數:%d\"%worker.get_num_of_epochs())\n",
    "    print(\"玩家隊名:%s\"%'-'.join( worker.get_player_list())) #以'-'為間格將player join在一起\n",
    "    print(worker.get_game_epoch_history_data(numpy.random.randint(1,game_history['epoch'].max())))"
   ]
  },
  {
   "cell_type": "markdown",
   "id": "24a6021e",
   "metadata": {},
   "source": [
    "<h3>底下為1-1內容</h3>"
   ]
  },
  {
   "cell_type": "code",
   "execution_count": 48,
   "id": "20417ed9",
   "metadata": {},
   "outputs": [],
   "source": [
    "game_history=pandas.read_csv(csv_file,header=0)"
   ]
  },
  {
   "cell_type": "code",
   "execution_count": 6,
   "id": "678ef58c",
   "metadata": {},
   "outputs": [
    {
     "data": {
      "text/plain": [
       "epoch      int64\n",
       "player    object\n",
       "member     int64\n",
       "x          int64\n",
       "y          int64\n",
       "dir        int64\n",
       "weight     int64\n",
       "dtype: object"
      ]
     },
     "execution_count": 6,
     "metadata": {},
     "output_type": "execute_result"
    }
   ],
   "source": [
    "game_history.dtypes"
   ]
  },
  {
   "cell_type": "code",
   "execution_count": 5,
   "id": "8d228cab",
   "metadata": {},
   "outputs": [
    {
     "data": {
      "text/html": [
       "<div>\n",
       "<style scoped>\n",
       "    .dataframe tbody tr th:only-of-type {\n",
       "        vertical-align: middle;\n",
       "    }\n",
       "\n",
       "    .dataframe tbody tr th {\n",
       "        vertical-align: top;\n",
       "    }\n",
       "\n",
       "    .dataframe thead th {\n",
       "        text-align: right;\n",
       "    }\n",
       "</style>\n",
       "<table border=\"1\" class=\"dataframe\">\n",
       "  <thead>\n",
       "    <tr style=\"text-align: right;\">\n",
       "      <th></th>\n",
       "      <th>epoch</th>\n",
       "      <th>player</th>\n",
       "      <th>member</th>\n",
       "      <th>x</th>\n",
       "      <th>y</th>\n",
       "      <th>dir</th>\n",
       "      <th>weight</th>\n",
       "    </tr>\n",
       "  </thead>\n",
       "  <tbody>\n",
       "    <tr>\n",
       "      <th>0</th>\n",
       "      <td>0</td>\n",
       "      <td>法</td>\n",
       "      <td>0</td>\n",
       "      <td>6</td>\n",
       "      <td>8</td>\n",
       "      <td>-1</td>\n",
       "      <td>1</td>\n",
       "    </tr>\n",
       "    <tr>\n",
       "      <th>1</th>\n",
       "      <td>0</td>\n",
       "      <td>法</td>\n",
       "      <td>1</td>\n",
       "      <td>2</td>\n",
       "      <td>8</td>\n",
       "      <td>-1</td>\n",
       "      <td>1</td>\n",
       "    </tr>\n",
       "    <tr>\n",
       "      <th>2</th>\n",
       "      <td>0</td>\n",
       "      <td>法</td>\n",
       "      <td>2</td>\n",
       "      <td>8</td>\n",
       "      <td>13</td>\n",
       "      <td>-1</td>\n",
       "      <td>1</td>\n",
       "    </tr>\n",
       "    <tr>\n",
       "      <th>3</th>\n",
       "      <td>0</td>\n",
       "      <td>法</td>\n",
       "      <td>3</td>\n",
       "      <td>3</td>\n",
       "      <td>13</td>\n",
       "      <td>-1</td>\n",
       "      <td>1</td>\n",
       "    </tr>\n",
       "    <tr>\n",
       "      <th>4</th>\n",
       "      <td>0</td>\n",
       "      <td>法</td>\n",
       "      <td>4</td>\n",
       "      <td>4</td>\n",
       "      <td>8</td>\n",
       "      <td>-1</td>\n",
       "      <td>1</td>\n",
       "    </tr>\n",
       "  </tbody>\n",
       "</table>\n",
       "</div>"
      ],
      "text/plain": [
       "   epoch player  member  x   y  dir  weight\n",
       "0      0      法       0  6   8   -1       1\n",
       "1      0      法       1  2   8   -1       1\n",
       "2      0      法       2  8  13   -1       1\n",
       "3      0      法       3  3  13   -1       1\n",
       "4      0      法       4  4   8   -1       1"
      ]
     },
     "execution_count": 5,
     "metadata": {},
     "output_type": "execute_result"
    }
   ],
   "source": [
    "game_history.head()"
   ]
  },
  {
   "cell_type": "code",
   "execution_count": 12,
   "id": "32ef7419",
   "metadata": {},
   "outputs": [
    {
     "data": {
      "text/plain": [
       "array([  0,   1,   2,   3,   4,   5,   6,   7,   8,   9,  10,  11,  12,\n",
       "        13,  14,  15,  16,  17,  18,  19,  20,  21,  22,  23,  24,  25,\n",
       "        26,  27,  28,  29,  30,  31,  32,  33,  34,  35,  36,  37,  38,\n",
       "        39,  40,  41,  42,  43,  44,  45,  46,  47,  48,  49,  50,  51,\n",
       "        52,  53,  54,  55,  56,  57,  58,  59,  60,  61,  62,  63,  64,\n",
       "        65,  66,  67,  68,  69,  70,  71,  72,  73,  74,  75,  76,  77,\n",
       "        78,  79,  80,  81,  82,  83,  84,  85,  86,  87,  88,  89,  90,\n",
       "        91,  92,  93,  94,  95,  96,  97,  98,  99, 100, 101, 102, 103,\n",
       "       104, 105, 106, 107, 108, 109, 110, 111, 112, 113, 114, 115, 116,\n",
       "       117, 118, 119, 120, 121, 122, 123, 124, 125, 126, 127, 128, 129,\n",
       "       130, 131, 132, 133, 134, 135, 136, 137, 138, 139, 140, 141, 142,\n",
       "       143, 144, 145, 146, 147, 148, 149, 150, 151, 152, 153, 154, 155,\n",
       "       156, 157, 158, 159, 160, 161, 162, 163, 164, 165, 166, 167, 168,\n",
       "       169, 170, 171, 172, 173, 174, 175, 176, 177, 178, 179, 180, 181,\n",
       "       182, 183, 184, 185, 186, 187, 188, 189, 190, 191, 192, 193, 194,\n",
       "       195, 196, 197, 198, 199, 200, 201, 202, 203, 204, 205, 206, 207,\n",
       "       208, 209, 210, 211, 212, 213, 214, 215, 216, 217, 218, 219, 220,\n",
       "       221, 222, 223, 224, 225, 226, 227, 228, 229, 230, 231, 232, 233,\n",
       "       234, 235, 236, 237, 238, 239, 240, 241, 242, 243, 244, 245, 246,\n",
       "       247, 248, 249, 250, 251, 252, 253, 254, 255, 256, 257, 258, 259,\n",
       "       260, 261, 262, 263, 264, 265, 266, 267, 268, 269, 270, 271, 272,\n",
       "       273, 274, 275, 276, 277, 278, 279, 280, 281, 282, 283, 284, 285,\n",
       "       286, 287, 288, 289, 290, 291, 292, 293, 294, 295, 296, 297, 298,\n",
       "       299, 300, 301, 302, 303, 304, 305, 306, 307, 308, 309, 310, 311,\n",
       "       312, 313, 314, 315, 316, 317, 318, 319, 320, 321, 322, 323, 324,\n",
       "       325, 326, 327, 328, 329, 330, 331, 332, 333, 334, 335, 336, 337,\n",
       "       338, 339, 340, 341, 342, 343, 344, 345, 346, 347, 348, 349, 350,\n",
       "       351, 352, 353, 354, 355, 356, 357, 358, 359, 360, 361, 362, 363,\n",
       "       364, 365, 366, 367, 368, 369, 370, 371, 372, 373, 374, 375, 376,\n",
       "       377, 378, 379, 380, 381, 382, 383, 384, 385, 386, 387, 388, 389,\n",
       "       390, 391, 392, 393, 394, 395, 396, 397, 398, 399, 400, 401, 402,\n",
       "       403, 404, 405, 406, 407, 408, 409, 410, 411, 412, 413, 414, 415,\n",
       "       416, 417, 418, 419, 420, 421, 422, 423, 424, 425, 426, 427, 428,\n",
       "       429, 430, 431, 432, 433, 434, 435, 436, 437, 438, 439, 440, 441,\n",
       "       442, 443, 444, 445, 446, 447, 448, 449, 450, 451, 452, 453, 454,\n",
       "       455, 456, 457, 458, 459, 460, 461, 462, 463, 464, 465, 466, 467,\n",
       "       468, 469, 470, 471, 472, 473, 474, 475, 476, 477, 478, 479, 480,\n",
       "       481, 482, 483, 484, 485, 486, 487, 488, 489, 490, 491, 492, 493,\n",
       "       494, 495, 496, 497, 498, 499, 500, 501, 502, 503, 504, 505, 506,\n",
       "       507, 508, 509, 510, 511, 512, 513, 514, 515, 516, 517, 518, 519,\n",
       "       520, 521, 522, 523, 524, 525, 526, 527, 528, 529, 530, 531, 532,\n",
       "       533, 534, 535, 536, 537, 538, 539], dtype=int64)"
      ]
     },
     "execution_count": 12,
     "metadata": {},
     "output_type": "execute_result"
    }
   ],
   "source": [
    "game_history['epoch'].unique()"
   ]
  },
  {
   "cell_type": "code",
   "execution_count": 9,
   "id": "919996c0",
   "metadata": {},
   "outputs": [
    {
     "data": {
      "text/plain": [
       "539"
      ]
     },
     "execution_count": 9,
     "metadata": {},
     "output_type": "execute_result"
    }
   ],
   "source": [
    "game_history['epoch'].max()"
   ]
  },
  {
   "cell_type": "code",
   "execution_count": 13,
   "id": "57df6992",
   "metadata": {},
   "outputs": [
    {
     "data": {
      "text/plain": [
       "array(['法', '俄', '美', '英', '義', '德'], dtype=object)"
      ]
     },
     "execution_count": 13,
     "metadata": {},
     "output_type": "execute_result"
    }
   ],
   "source": [
    "game_history['player'].unique()"
   ]
  },
  {
   "cell_type": "code",
   "execution_count": 22,
   "id": "9c6387d8",
   "metadata": {},
   "outputs": [
    {
     "data": {
      "text/plain": [
       "array([155])"
      ]
     },
     "execution_count": 22,
     "metadata": {},
     "output_type": "execute_result"
    }
   ],
   "source": [
    "numpy.random.randint(1,539,1) #幾到幾抽幾個"
   ]
  },
  {
   "cell_type": "code",
   "execution_count": 18,
   "id": "0ba6c070",
   "metadata": {},
   "outputs": [
    {
     "data": {
      "text/plain": [
       "(3314, 7)"
      ]
     },
     "execution_count": 18,
     "metadata": {},
     "output_type": "execute_result"
    }
   ],
   "source": [
    "game_history.shape[0] #欄位"
   ]
  },
  {
   "cell_type": "code",
   "execution_count": 21,
   "id": "f7349519",
   "metadata": {},
   "outputs": [
    {
     "data": {
      "text/html": [
       "<div>\n",
       "<style scoped>\n",
       "    .dataframe tbody tr th:only-of-type {\n",
       "        vertical-align: middle;\n",
       "    }\n",
       "\n",
       "    .dataframe tbody tr th {\n",
       "        vertical-align: top;\n",
       "    }\n",
       "\n",
       "    .dataframe thead th {\n",
       "        text-align: right;\n",
       "    }\n",
       "</style>\n",
       "<table border=\"1\" class=\"dataframe\">\n",
       "  <thead>\n",
       "    <tr style=\"text-align: right;\">\n",
       "      <th></th>\n",
       "      <th>epoch</th>\n",
       "      <th>player</th>\n",
       "      <th>member</th>\n",
       "      <th>x</th>\n",
       "      <th>y</th>\n",
       "      <th>dir</th>\n",
       "      <th>weight</th>\n",
       "    </tr>\n",
       "  </thead>\n",
       "  <tbody>\n",
       "    <tr>\n",
       "      <th>2264</th>\n",
       "      <td>205</td>\n",
       "      <td>法</td>\n",
       "      <td>0</td>\n",
       "      <td>14</td>\n",
       "      <td>12</td>\n",
       "      <td>5</td>\n",
       "      <td>2</td>\n",
       "    </tr>\n",
       "    <tr>\n",
       "      <th>2265</th>\n",
       "      <td>205</td>\n",
       "      <td>法</td>\n",
       "      <td>2</td>\n",
       "      <td>12</td>\n",
       "      <td>15</td>\n",
       "      <td>1</td>\n",
       "      <td>2</td>\n",
       "    </tr>\n",
       "    <tr>\n",
       "      <th>2266</th>\n",
       "      <td>205</td>\n",
       "      <td>俄</td>\n",
       "      <td>0</td>\n",
       "      <td>14</td>\n",
       "      <td>10</td>\n",
       "      <td>3</td>\n",
       "      <td>6</td>\n",
       "    </tr>\n",
       "    <tr>\n",
       "      <th>2267</th>\n",
       "      <td>205</td>\n",
       "      <td>俄</td>\n",
       "      <td>2</td>\n",
       "      <td>14</td>\n",
       "      <td>16</td>\n",
       "      <td>2</td>\n",
       "      <td>1</td>\n",
       "    </tr>\n",
       "    <tr>\n",
       "      <th>2268</th>\n",
       "      <td>205</td>\n",
       "      <td>德</td>\n",
       "      <td>0</td>\n",
       "      <td>16</td>\n",
       "      <td>2</td>\n",
       "      <td>7</td>\n",
       "      <td>1</td>\n",
       "    </tr>\n",
       "    <tr>\n",
       "      <th>2269</th>\n",
       "      <td>205</td>\n",
       "      <td>德</td>\n",
       "      <td>4</td>\n",
       "      <td>1</td>\n",
       "      <td>15</td>\n",
       "      <td>2</td>\n",
       "      <td>1</td>\n",
       "    </tr>\n",
       "  </tbody>\n",
       "</table>\n",
       "</div>"
      ],
      "text/plain": [
       "      epoch player  member   x   y  dir  weight\n",
       "2264    205      法       0  14  12    5       2\n",
       "2265    205      法       2  12  15    1       2\n",
       "2266    205      俄       0  14  10    3       6\n",
       "2267    205      俄       2  14  16    2       1\n",
       "2268    205      德       0  16   2    7       1\n",
       "2269    205      德       4   1  15    2       1"
      ]
     },
     "execution_count": 21,
     "metadata": {},
     "output_type": "execute_result"
    }
   ],
   "source": [
    "game_history.loc[game_history['epoch']==numpy.random.randint(1,game_history['epoch'].max())]"
   ]
  },
  {
   "cell_type": "code",
   "execution_count": null,
   "id": "bedfa5c0",
   "metadata": {},
   "outputs": [],
   "source": []
  }
 ],
 "metadata": {
  "kernelspec": {
   "display_name": "Python 3 (ipykernel)",
   "language": "python",
   "name": "python3"
  },
  "language_info": {
   "codemirror_mode": {
    "name": "ipython",
    "version": 3
   },
   "file_extension": ".py",
   "mimetype": "text/x-python",
   "name": "python",
   "nbconvert_exporter": "python",
   "pygments_lexer": "ipython3",
   "version": "3.8.12"
  }
 },
 "nbformat": 4,
 "nbformat_minor": 5
}
