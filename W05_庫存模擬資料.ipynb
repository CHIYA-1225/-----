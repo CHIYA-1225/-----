{
 "cells": [
  {
   "cell_type": "code",
   "execution_count": 1,
   "id": "d39ffa28",
   "metadata": {},
   "outputs": [],
   "source": [
    "import pandas\n",
    "import numpy"
   ]
  },
  {
   "cell_type": "code",
   "execution_count": 4,
   "id": "688926dd",
   "metadata": {},
   "outputs": [],
   "source": [
    "class Inventory:\n",
    "    def __init__(self):\n",
    "        data_path = 'C:\\\\Users\\\\user\\\\anaconda3\\\\Projects\\\\BizCases\\\\data'\n",
    "        vendor_item_file = '%s/產品-供應商彙整.csv' % data_path\n",
    "        self.vendor_item = pandas.read_csv(vendor_item_file, header=0)\n",
    "    def generate(self):\n",
    "        _inventory = self.vendor_item.loc[self.vendor_item['product_id'] != ''].copy()\n",
    "        \n",
    "        inventory_list = []\n",
    "        unit_price_list = []\n",
    "        minimal_buy_list = []\n",
    "        \n",
    "        for i in range(_inventory.shape[0]):\n",
    "            row = _inventory.iloc[i]\n",
    "            \n",
    "            inventory_list.append(numpy.random.randint(500, 30000))\n",
    "            minimal_buy_list.append(numpy.random.randint(500, 5000))\n",
    "            \n",
    "        _inventory['qty'] = inventory_list\n",
    "        _inventory['min_qty'] = minimal_buy_list\n",
    "        \n",
    "        return _inventory\n"
   ]
  },
  {
   "cell_type": "code",
   "execution_count": 5,
   "id": "2c90d031",
   "metadata": {},
   "outputs": [],
   "source": [
    "worker = Inventory()\n",
    "my_inventory = worker.generate()\n",
    "\n",
    "my_inventory.to_csv('C:\\\\Users\\\\user\\\\anaconda3\\\\Projects\\\\BizCases\\\\data/模擬庫存.csv', index=False)"
   ]
  },
  {
   "cell_type": "code",
   "execution_count": null,
   "id": "38be8d50",
   "metadata": {},
   "outputs": [],
   "source": []
  }
 ],
 "metadata": {
  "kernelspec": {
   "display_name": "Python 3 (ipykernel)",
   "language": "python",
   "name": "python3"
  },
  "language_info": {
   "codemirror_mode": {
    "name": "ipython",
    "version": 3
   },
   "file_extension": ".py",
   "mimetype": "text/x-python",
   "name": "python",
   "nbconvert_exporter": "python",
   "pygments_lexer": "ipython3",
   "version": "3.8.12"
  }
 },
 "nbformat": 4,
 "nbformat_minor": 5
}
